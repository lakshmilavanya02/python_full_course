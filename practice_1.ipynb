{
 "cells": [
  {
   "cell_type": "code",
   "execution_count": 1,
   "id": "c10855ac-bafc-4211-8bc7-5bbb5acedf0a",
   "metadata": {},
   "outputs": [
    {
     "data": {
      "text/plain": [
       "10"
      ]
     },
     "execution_count": 1,
     "metadata": {},
     "output_type": "execute_result"
    }
   ],
   "source": [
    "a,b,c=10,20,30\n",
    "a\n"
   ]
  },
  {
   "cell_type": "code",
   "execution_count": 2,
   "id": "fd8f2e62-bcd6-4272-9881-453a6bc79f9b",
   "metadata": {},
   "outputs": [
    {
     "data": {
      "text/plain": [
       "20"
      ]
     },
     "execution_count": 2,
     "metadata": {},
     "output_type": "execute_result"
    }
   ],
   "source": [
    "b"
   ]
  },
  {
   "cell_type": "code",
   "execution_count": 3,
   "id": "1fa0c2e2-970d-4b81-9268-12a3ce4707a6",
   "metadata": {},
   "outputs": [
    {
     "data": {
      "text/plain": [
       "30"
      ]
     },
     "execution_count": 3,
     "metadata": {},
     "output_type": "execute_result"
    }
   ],
   "source": [
    "c\n"
   ]
  },
  {
   "cell_type": "code",
   "execution_count": 1,
   "id": "4fbcd999-8a57-4816-8a0c-dd2c4c181efe",
   "metadata": {},
   "outputs": [
    {
     "name": "stdin",
     "output_type": "stream",
     "text": [
      " 10\n",
      " 20\n"
     ]
    }
   ],
   "source": [
    "a=input()\n",
    "b=input()"
   ]
  },
  {
   "cell_type": "code",
   "execution_count": 2,
   "id": "8d87e475-d394-4b2f-812d-c81b7ca77a93",
   "metadata": {},
   "outputs": [
    {
     "data": {
      "text/plain": [
       "'10'"
      ]
     },
     "execution_count": 2,
     "metadata": {},
     "output_type": "execute_result"
    }
   ],
   "source": [
    "a"
   ]
  },
  {
   "cell_type": "code",
   "execution_count": 3,
   "id": "1b28d145-484d-42ca-9a61-e0914426d2fa",
   "metadata": {},
   "outputs": [
    {
     "data": {
      "text/plain": [
       "'20'"
      ]
     },
     "execution_count": 3,
     "metadata": {},
     "output_type": "execute_result"
    }
   ],
   "source": [
    "b"
   ]
  },
  {
   "cell_type": "code",
   "execution_count": 10,
   "id": "7bc15686-e223-443c-9121-7117541f018d",
   "metadata": {},
   "outputs": [
    {
     "name": "stdin",
     "output_type": "stream",
     "text": [
      " 10\n",
      "enter a value: 10\n",
      "enter the values: 10 20 30\n"
     ]
    },
    {
     "data": {
      "text/plain": [
       "list"
      ]
     },
     "execution_count": 10,
     "metadata": {},
     "output_type": "execute_result"
    }
   ],
   "source": [
    "#python is case sensitive\n",
    "#--------------------inputs\n",
    "A=input()\n",
    "type(A)\n",
    "a=int(input(\"enter a value:\"))\n",
    "type(a)\n",
    "b=input(\"enter the values:\").split()\n",
    "type(b)\n",
    "\n"
   ]
  },
  {
   "cell_type": "code",
   "execution_count": 13,
   "id": "26bceeb7-6690-47b8-ab7f-ea0f3e0050c8",
   "metadata": {},
   "outputs": [
    {
     "name": "stdin",
     "output_type": "stream",
     "text": [
      " 10 20 30\n"
     ]
    },
    {
     "name": "stdout",
     "output_type": "stream",
     "text": [
      "['10', '20', '30']\n"
     ]
    },
    {
     "data": {
      "text/plain": [
       "list"
      ]
     },
     "execution_count": 13,
     "metadata": {},
     "output_type": "execute_result"
    }
   ],
   "source": [
    "b=input().split()\n",
    "print(b)\n",
    "type(b)"
   ]
  },
  {
   "cell_type": "code",
   "execution_count": 16,
   "id": "8e7ff024-4270-4168-8479-21f5076721e0",
   "metadata": {},
   "outputs": [
    {
     "name": "stdin",
     "output_type": "stream",
     "text": [
      " 10 20 30\n"
     ]
    },
    {
     "name": "stdout",
     "output_type": "stream",
     "text": [
      "['10', '20', '30']\n"
     ]
    },
    {
     "data": {
      "text/plain": [
       "list"
      ]
     },
     "execution_count": 16,
     "metadata": {},
     "output_type": "execute_result"
    }
   ],
   "source": [
    "b=input().split()\n",
    "print(b)\n",
    "type(b)"
   ]
  },
  {
   "cell_type": "code",
   "execution_count": 18,
   "id": "816d850e-02ec-4269-9bbe-1824c11b91ca",
   "metadata": {},
   "outputs": [
    {
     "name": "stdout",
     "output_type": "stream",
     "text": [
      "hello\n",
      "hello world\n"
     ]
    }
   ],
   "source": [
    "#----------------------outputs\n",
    "print('hello')\n",
    "print(\"hello world\")"
   ]
  },
  {
   "cell_type": "code",
   "execution_count": 24,
   "id": "74576b57-c134-4af2-93e2-0b5eddd8e604",
   "metadata": {},
   "outputs": [
    {
     "name": "stdout",
     "output_type": "stream",
     "text": [
      "hello\thola\tworld\t\n"
     ]
    }
   ],
   "source": [
    "print(\"hello\\t\"+ \"hola\\t\"+\"world\\t\")"
   ]
  },
  {
   "cell_type": "code",
   "execution_count": 33,
   "id": "a76a8f49-6092-43f4-a03c-bd675ebf0ddf",
   "metadata": {},
   "outputs": [
    {
     "name": "stdout",
     "output_type": "stream",
     "text": [
      "hello. world\n"
     ]
    }
   ],
   "source": [
    "print(\"hello\",' world',sep='.')"
   ]
  },
  {
   "cell_type": "code",
   "execution_count": 15,
   "id": "aa69b66c-eb88-4163-abb6-dae0559d8cd9",
   "metadata": {},
   "outputs": [
    {
     "name": "stdout",
     "output_type": "stream",
     "text": [
      "hello  *  world\n"
     ]
    }
   ],
   "source": [
    "print('hello',end='  *  ')#appends current print statememt to follwed next print statement.\n",
    "print(\"world\")"
   ]
  },
  {
   "cell_type": "code",
   "execution_count": 42,
   "id": "947e3587-05d2-422e-abad-49b5fb11da69",
   "metadata": {},
   "outputs": [
    {
     "name": "stdout",
     "output_type": "stream",
     "text": [
      " c value is 0.500000 \n"
     ]
    }
   ],
   "source": [
    "a=10\n",
    "b=20\n",
    "c=a/b\n",
    "print(\" c value is %lf \"%(c))"
   ]
  },
  {
   "cell_type": "code",
   "execution_count": 53,
   "id": "669c3f95-315c-4c13-ae9f-db60655c803f",
   "metadata": {},
   "outputs": [
    {
     "name": "stdout",
     "output_type": "stream",
     "text": [
      "10 is int & 20.00 is float\n"
     ]
    }
   ],
   "source": [
    "a=10\n",
    "b=20.0005258\n",
    "c=a/b\n",
    "print(\"%d is int & %.2f is float\"%(a,b))"
   ]
  },
  {
   "cell_type": "code",
   "execution_count": 52,
   "id": "5781f511-4db9-420e-89a8-4383ee61f925",
   "metadata": {},
   "outputs": [
    {
     "name": "stdout",
     "output_type": "stream",
     "text": [
      "10 is int is float 20 & c is 0.5\n"
     ]
    }
   ],
   "source": [
    "a=10\n",
    "b=20\n",
    "c=a/b\n",
    "print(a,\"is int\",\"is float\",b,'& c is',c)"
   ]
  },
  {
   "cell_type": "code",
   "execution_count": 56,
   "id": "66e2d15e-24bd-447c-80f0-73349aebef29",
   "metadata": {},
   "outputs": [
    {
     "name": "stdout",
     "output_type": "stream",
     "text": [
      "30 -10 200 0.5 10 0 100000000000000000000\n"
     ]
    }
   ],
   "source": [
    "#-------------------operators\n",
    "a,b=10,20\n",
    "p=a+b\n",
    "q=a-b\n",
    "r=a*b\n",
    "s=a/b\n",
    "t=a%b #modulo division = gives the remainder as output\n",
    "u=a//b #floor division = rounds the output to integer\n",
    "v=a**b# powera to b i.e.10 ^20\n",
    "print(p,q,r,s,t,u,v)\n",
    "\n"
   ]
  },
  {
   "cell_type": "code",
   "execution_count": 69,
   "id": "b66f3adf-b6f0-421a-af32-9460ff3b8828",
   "metadata": {},
   "outputs": [
    {
     "name": "stdout",
     "output_type": "stream",
     "text": [
      "False\n",
      "True\n",
      "True\n"
     ]
    }
   ],
   "source": [
    "#-------------------------relational operators\n",
    "#--------------------------------------------------multiple line commnets\n",
    "# relational operators gives the output in the form of\n",
    "                                                        #true or false\n",
    "a,b=10,20\n",
    "print(a>b)\n",
    "print(b>a)\n",
    "print(a!=b)\n",
    "# like adding on >=,  <= ,  != "
   ]
  },
  {
   "cell_type": "code",
   "execution_count": 73,
   "id": "75bae3d1-0ebf-44f8-971c-c66d86a58203",
   "metadata": {},
   "outputs": [
    {
     "name": "stdout",
     "output_type": "stream",
     "text": [
      "-21\n"
     ]
    }
   ],
   "source": [
    "#---------------------bitwise operator\n",
    "#decimal value(such as 1,2..)--------> binary conversion------------------>operation-------->decimal(output)\n",
    "\n",
    "\n",
    "a,b=20,30\n",
    "print(~a)#unary operator  = alternates the value like \"1 to 0 \"& \"0 to 1\"------------!can be done only on single operator\n",
    "       #generally gives 2's complement as result  . formula is-(value  + 1).\n",
    "       #in above example a=20 and  a's complement is -(a+1) i.e. -(20+1) and output is -21.\n",
    "\n",
    "\n",
    "#bitwise  and--> &  =gives true when all compared  conditions are true\n",
    "#bitwise  and--> |  =gives true when any of the  compared  conditions are true\n",
    "#bitwise  and--> ^   =gives \"0(false) for 0&0 \"and \"1&1 anf gives 1(truefor 1&0 and 0&1)\"\n"
   ]
  },
  {
   "cell_type": "code",
   "execution_count": 80,
   "id": "9bb29b31-90d8-439a-9e30-3f2009bc0883",
   "metadata": {},
   "outputs": [
    {
     "name": "stdout",
     "output_type": "stream",
     "text": [
      "40\n",
      "2\n"
     ]
    }
   ],
   "source": [
    "#---------------------------->shift operators\n",
    "#decimal to----->   binary  --------> decimal(output)\n",
    "\n",
    "# \">>\" is right shift = moves the binary bits towards right and fills the gap on left side by zeros\n",
    "# \"<<\" is left shift = moves the binary bits towards left and fills the gap on right  side by zeros\n",
    "\n",
    "a=10\n",
    "print(a<<2)\n",
    "print(a>>2)\n"
   ]
  },
  {
   "cell_type": "code",
   "execution_count": 82,
   "id": "b7830075-c996-4e22-aa48-0c5a68abe576",
   "metadata": {},
   "outputs": [
    {
     "name": "stdout",
     "output_type": "stream",
     "text": [
      "True\n",
      "False\n"
     ]
    },
    {
     "data": {
      "text/plain": [
       "140709610527448"
      ]
     },
     "execution_count": 82,
     "metadata": {},
     "output_type": "execute_result"
    }
   ],
   "source": [
    "#---------------------------->membership operators\n",
    "# \"in\"  = checks whether the given element is present in the given  set list/tuple/table.output will be in true/false format.\n",
    "\n",
    "\n",
    "a=[10 ,20 ,30 ]\n",
    "print(10 in a)\n",
    "print(50 in a)\n",
    "\n"
   ]
  },
  {
   "cell_type": "code",
   "execution_count": 90,
   "id": "2f3fee47-e3b7-4497-9bcc-a368afd5bbdf",
   "metadata": {},
   "outputs": [
    {
     "name": "stdout",
     "output_type": "stream",
     "text": [
      "140709610527448\n",
      "140709610527448\n",
      "True\n",
      "140709610527448\n",
      "140709610527768\n",
      "False\n"
     ]
    }
   ],
   "source": [
    "# \"is\" = gives true or false by checking two variables.if they are same returns true else false.note : checking is done based on the id values of the variables not ont values of the cariables.\n",
    "  #ex1:\n",
    "a,b=10,10\n",
    "print(id(a))\n",
    "print(id(b))\n",
    "print( a is b)\n",
    " \n",
    "#ex2:\n",
    "\n",
    "a,b=10,20\n",
    "print(id(a))\n",
    "print(id(b))\n",
    "print( a is b)\n"
   ]
  },
  {
   "cell_type": "code",
   "execution_count": 12,
   "id": "070e00ca-5fa2-45d7-964b-7643b2614d84",
   "metadata": {},
   "outputs": [
    {
     "name": "stdin",
     "output_type": "stream",
     "text": [
      " 10\n",
      " 20\n",
      " 30\n"
     ]
    },
    {
     "name": "stdout",
     "output_type": "stream",
     "text": [
      "c is big\n"
     ]
    }
   ],
   "source": [
    "#--------------------------->conditional statements\n",
    "a=int(input())\n",
    "b=int(input())\n",
    "c=int(input())\n",
    "if a>b:\n",
    "    if a>c:\n",
    "        print(\"a is big\")\n",
    "    else:\n",
    "        print(\"c is big\")\n",
    "else:\n",
    "    if b>c:\n",
    "        print(\"b is big\")\n",
    "    else:\n",
    "        print(\"c is big\")"
   ]
  },
  {
   "cell_type": "code",
   "execution_count": 13,
   "id": "b9d4cf62-cf51-4264-b156-dc22f707a127",
   "metadata": {},
   "outputs": [
    {
     "name": "stdin",
     "output_type": "stream",
     "text": [
      " 10\n",
      " 50\n",
      " 20\n"
     ]
    },
    {
     "name": "stdout",
     "output_type": "stream",
     "text": [
      "b is big\n"
     ]
    }
   ],
   "source": [
    "a=int(input())\n",
    "b=int(input())\n",
    "c=int(input())\n",
    "if a>b:\n",
    " print(\"a is big\")\n",
    "elif b>c:                   #------------>elif\n",
    "     print(\"b is big\")\n",
    "else:\n",
    "     print(\"c is big\")\n",
    "    \n"
   ]
  },
  {
   "cell_type": "code",
   "execution_count": 18,
   "id": "0367ce1a-20d2-4292-9232-5464a354ddeb",
   "metadata": {},
   "outputs": [
    {
     "name": "stdout",
     "output_type": "stream",
     "text": [
      "0\t1\t2\t3\t4\t5\t"
     ]
    }
   ],
   "source": [
    "#-------------------->iterative statements\n",
    "                                          #using range\n",
    "for i in range(6):   # bt degault i value starts from 0 and incerment is 1 by default\n",
    "    print(i,end='\\t')\n",
    "    \n"
   ]
  },
  {
   "cell_type": "code",
   "execution_count": 2,
   "id": "c5e5bbc1-51e6-42be-a777-4f4e4c0f08da",
   "metadata": {},
   "outputs": [
    {
     "name": "stdout",
     "output_type": "stream",
     "text": [
      "0 3 6 9 "
     ]
    }
   ],
   "source": [
    "for i in range(0,10,3):\n",
    "    print(i,end=\" \")\n",
    "    "
   ]
  },
  {
   "cell_type": "code",
   "execution_count": 5,
   "id": "c94af896-05b3-4284-9ca2-e2a4d3d1db00",
   "metadata": {},
   "outputs": [
    {
     "name": "stdout",
     "output_type": "stream",
     "text": [
      "l a v a n y a "
     ]
    }
   ],
   "source": [
    "str=\"lavanya\"\n",
    "for i in str:\n",
    "    print(i,end=\" \")\n"
   ]
  },
  {
   "cell_type": "code",
   "execution_count": 13,
   "id": "7fb83b81-844b-4330-95a6-4f7db04607a8",
   "metadata": {},
   "outputs": [
    {
     "name": "stdout",
     "output_type": "stream",
     "text": [
      "# # # # # \n",
      "\n",
      "# # # # # \n",
      "\n",
      "# # # # # \n",
      "\n",
      "# # # # # \n",
      "\n",
      "# # # # # \n",
      "\n"
     ]
    }
   ],
   "source": [
    "for i in range(5):\n",
    "    for j in range(5):\n",
    "        print(\"#\",end=\" \")\n",
    "    print(\"\\n\")"
   ]
  },
  {
   "cell_type": "code",
   "execution_count": 18,
   "id": "a8a06b58-ba6f-474c-b8d4-80b34bbfc1a1",
   "metadata": {},
   "outputs": [
    {
     "name": "stdout",
     "output_type": "stream",
     "text": [
      "0 1 2 3 4 "
     ]
    }
   ],
   "source": [
    "#-------------------------------->jump statements i.e. break & continue &pass\n",
    "                                                #pass makes no chnage in the code.\n",
    "                                                 #it is used whnever there is something need to be in the condiyion (although we have nothing to write)we use pass.\n",
    "                                                   #since it makes no changes in the code\n",
    "for i in range(10):\n",
    "    if i==5:\n",
    "        break\n",
    "    else:\n",
    "        print(i,end=\" \")"
   ]
  },
  {
   "cell_type": "code",
   "execution_count": 17,
   "id": "c5ac2b2a-7c6c-4e70-b246-1c9cd95602b7",
   "metadata": {},
   "outputs": [
    {
     "name": "stdout",
     "output_type": "stream",
     "text": [
      "0 1 2 3 4 6 7 8 9 "
     ]
    }
   ],
   "source": [
    "for i in range(10):\n",
    "    if i==5:\n",
    "        continue\n",
    "    else:\n",
    "        print(i,end=\" \")"
   ]
  },
  {
   "cell_type": "code",
   "execution_count": 20,
   "id": "9e27a566-1cfa-43ca-b6c0-0df6ed882169",
   "metadata": {},
   "outputs": [],
   "source": [
    "#-------------------------------------->math and random functions\n",
    "#---------------->math functions(module)\n",
    "#1st we nned to import \"math\" funtion\n",
    "\n"
   ]
  },
  {
   "cell_type": "code",
   "execution_count": 21,
   "id": "c092401f-2ac2-4e41-806f-812cbeda1cf8",
   "metadata": {},
   "outputs": [
    {
     "data": {
      "text/plain": [
       "10"
      ]
     },
     "execution_count": 21,
     "metadata": {},
     "output_type": "execute_result"
    }
   ],
   "source": [
    "import math\n",
    "math.floor(10.23)"
   ]
  },
  {
   "cell_type": "code",
   "execution_count": 22,
   "id": "463eb6e8-d4e5-460a-a54c-28bb3871e08f",
   "metadata": {},
   "outputs": [
    {
     "data": {
      "text/plain": [
       "11"
      ]
     },
     "execution_count": 22,
     "metadata": {},
     "output_type": "execute_result"
    }
   ],
   "source": [
    "math.ceil(10.32)"
   ]
  },
  {
   "cell_type": "code",
   "execution_count": 23,
   "id": "70839b12-bb58-41d8-9cc8-6e246b7dbc80",
   "metadata": {},
   "outputs": [
    {
     "data": {
      "text/plain": [
       "8.0"
      ]
     },
     "execution_count": 23,
     "metadata": {},
     "output_type": "execute_result"
    }
   ],
   "source": [
    "math.pow(2,3)\n",
    "# or 2**3"
   ]
  },
  {
   "cell_type": "code",
   "execution_count": 24,
   "id": "e41ad069-3f03-422c-86f5-0a805807eba0",
   "metadata": {},
   "outputs": [
    {
     "data": {
      "text/plain": [
       "100.0"
      ]
     },
     "execution_count": 24,
     "metadata": {},
     "output_type": "execute_result"
    }
   ],
   "source": [
    "list=[10,20,30,40]\n",
    "math.fsum(list)\n",
    "#returns sum  of all values in the  list"
   ]
  },
  {
   "cell_type": "code",
   "execution_count": 26,
   "id": "6f42a034-f651-4de9-952b-6675dd2ebe41",
   "metadata": {},
   "outputs": [
    {
     "data": {
      "text/plain": [
       "5.0"
      ]
     },
     "execution_count": 26,
     "metadata": {},
     "output_type": "execute_result"
    }
   ],
   "source": [
    "math.sqrt(25)"
   ]
  },
  {
   "cell_type": "code",
   "execution_count": 28,
   "id": "300abdaf-6fef-453e-ace4-d5348f2707fe",
   "metadata": {},
   "outputs": [
    {
     "data": {
      "text/plain": [
       "120"
      ]
     },
     "execution_count": 28,
     "metadata": {},
     "output_type": "execute_result"
    }
   ],
   "source": [
    "math.factorial(5)"
   ]
  },
  {
   "cell_type": "code",
   "execution_count": 33,
   "id": "d4556075-e72d-4a6e-aeee-881e54c16be8",
   "metadata": {},
   "outputs": [
    {
     "data": {
      "text/plain": [
       "7"
      ]
     },
     "execution_count": 33,
     "metadata": {},
     "output_type": "execute_result"
    }
   ],
   "source": [
    "math.gcd(7,21)"
   ]
  },
  {
   "cell_type": "markdown",
   "id": "dab22d85-8242-42bf-ba85-3461dc90865a",
   "metadata": {},
   "source": [
    "math"
   ]
  },
  {
   "cell_type": "markdown",
   "id": "802b6a9e-b43c-48eb-95b0-cc2b54de8926",
   "metadata": {},
   "source": [
    "import math\n",
    "math.floor(10.23)"
   ]
  },
  {
   "cell_type": "code",
   "execution_count": 36,
   "id": "71181031-969b-4395-a2b8-f939020620e6",
   "metadata": {},
   "outputs": [
    {
     "data": {
      "text/plain": [
       "3.141592653589793"
      ]
     },
     "execution_count": 36,
     "metadata": {},
     "output_type": "execute_result"
    }
   ],
   "source": [
    "import math\n",
    "math.pi"
   ]
  },
  {
   "cell_type": "code",
   "execution_count": 37,
   "id": "a59edb6c-ab67-4005-ae01-0a92c2939dff",
   "metadata": {},
   "outputs": [
    {
     "data": {
      "text/plain": [
       "-0.9880316240928618"
      ]
     },
     "execution_count": 37,
     "metadata": {},
     "output_type": "execute_result"
    }
   ],
   "source": [
    "math.sin(30)"
   ]
  },
  {
   "cell_type": "code",
   "execution_count": 38,
   "id": "bccbfa27-d10f-4fc7-9ec9-6c546353424e",
   "metadata": {},
   "outputs": [
    {
     "data": {
      "text/plain": [
       "-0.8390715290764524"
      ]
     },
     "execution_count": 38,
     "metadata": {},
     "output_type": "execute_result"
    }
   ],
   "source": [
    "math.cos(10)"
   ]
  },
  {
   "cell_type": "code",
   "execution_count": 39,
   "id": "cc5513fb-ed36-4cae-b9a1-d8dc58144580",
   "metadata": {},
   "outputs": [
    {
     "data": {
      "text/plain": [
       "2.237160944224742"
      ]
     },
     "execution_count": 39,
     "metadata": {},
     "output_type": "execute_result"
    }
   ],
   "source": [
    "math.tan(20)"
   ]
  },
  {
   "cell_type": "code",
   "execution_count": 44,
   "id": "3e1dba08-df39-465c-9cea-9d8b75252057",
   "metadata": {},
   "outputs": [],
   "source": [
    "a=math.nan\n",
    "#here a'value is not a number(may be a character)"
   ]
  },
  {
   "cell_type": "code",
   "execution_count": 45,
   "id": "b401857a-5784-4eba-9b16-01cee203051a",
   "metadata": {},
   "outputs": [],
   "source": [
    "#------------------------------------------------>random funtion\n",
    "#import random function\n",
    "#mostly used in dice throwing in snake and ladders and many on"
   ]
  },
  {
   "cell_type": "code",
   "execution_count": 53,
   "id": "e12b9877-497d-486b-b44a-9a6b39c63d51",
   "metadata": {},
   "outputs": [
    {
     "data": {
      "text/plain": [
       "6"
      ]
     },
     "execution_count": 53,
     "metadata": {},
     "output_type": "execute_result"
    }
   ],
   "source": [
    "import random\n",
    "random.randrange(1,100,5)\n",
    "#gives any random number within the specified range with increment of 5"
   ]
  },
  {
   "cell_type": "code",
   "execution_count": 55,
   "id": "d0150420-fcd3-4521-b93a-9018a11c6474",
   "metadata": {},
   "outputs": [
    {
     "data": {
      "text/plain": [
       "5"
      ]
     },
     "execution_count": 55,
     "metadata": {},
     "output_type": "execute_result"
    }
   ],
   "source": [
    "random.randrange(1,100)\n",
    "#gives any random number within the specified range "
   ]
  },
  {
   "cell_type": "code",
   "execution_count": 56,
   "id": "94711b5e-aa92-4f1c-896a-b4575ece7f9c",
   "metadata": {},
   "outputs": [
    {
     "data": {
      "text/plain": [
       "48.2574866941365"
      ]
     },
     "execution_count": 56,
     "metadata": {},
     "output_type": "execute_result"
    }
   ],
   "source": [
    "random.uniform(1,100)\n",
    "#gives any \"floor\" value in random within specified range"
   ]
  },
  {
   "cell_type": "code",
   "execution_count": 57,
   "id": "9be47946-233a-4704-ade6-69081a5f3eab",
   "metadata": {},
   "outputs": [
    {
     "data": {
      "text/plain": [
       "50"
      ]
     },
     "execution_count": 57,
     "metadata": {},
     "output_type": "execute_result"
    }
   ],
   "source": [
    "list=[10,20,30,50,60]\n",
    "random.choice(list)\n",
    "#gives any random value from list\n",
    "#gives only 1 value at random"
   ]
  },
  {
   "cell_type": "code",
   "execution_count": 58,
   "id": "f603599c-7259-4ce8-b5e3-25a1ede06fae",
   "metadata": {},
   "outputs": [
    {
     "data": {
      "text/plain": [
       "50"
      ]
     },
     "execution_count": 58,
     "metadata": {},
     "output_type": "execute_result"
    }
   ],
   "source": [
    "random.choice(list)"
   ]
  },
  {
   "cell_type": "code",
   "execution_count": 59,
   "id": "9d11a9d8-abf0-48e9-b4b6-8472d565c018",
   "metadata": {},
   "outputs": [
    {
     "data": {
      "text/plain": [
       "30"
      ]
     },
     "execution_count": 59,
     "metadata": {},
     "output_type": "execute_result"
    }
   ],
   "source": [
    "random.choice(list)"
   ]
  },
  {
   "cell_type": "code",
   "execution_count": 61,
   "id": "ff348968-1084-4b01-b81f-b871cf84b34e",
   "metadata": {},
   "outputs": [
    {
     "data": {
      "text/plain": [
       "[20, 20, 20]"
      ]
     },
     "execution_count": 61,
     "metadata": {},
     "output_type": "execute_result"
    }
   ],
   "source": [
    "random.choices(list,k=3)\n",
    "#gives 3 values from list at random,since k value is specified as 3"
   ]
  },
  {
   "cell_type": "code",
   "execution_count": 71,
   "id": "bf5cad8a-a1af-4bd4-ad62-743d68058143",
   "metadata": {},
   "outputs": [],
   "source": [
    "import random\n",
    "list=[10,20,30,50,60]\n",
    "random.shuffle(list)"
   ]
  },
  {
   "cell_type": "code",
   "execution_count": 73,
   "id": "5f34206b-d701-4cb8-bde9-faf335a43e12",
   "metadata": {},
   "outputs": [
    {
     "data": {
      "text/plain": [
       "'l'"
      ]
     },
     "execution_count": 73,
     "metadata": {},
     "output_type": "execute_result"
    }
   ],
   "source": [
    "str='school'\n",
    "random.choice(str)"
   ]
  },
  {
   "cell_type": "code",
   "execution_count": 76,
   "id": "0b61ed07-2f83-47ef-9786-8bf680279e7e",
   "metadata": {},
   "outputs": [
    {
     "data": {
      "text/plain": [
       "['l', 'o', 'o']"
      ]
     },
     "execution_count": 76,
     "metadata": {},
     "output_type": "execute_result"
    }
   ],
   "source": [
    "random.choices(str,k=3)"
   ]
  },
  {
   "cell_type": "code",
   "execution_count": 77,
   "id": "8c1ae80e-8c6c-4872-8f59-b62ca8f7f7a2",
   "metadata": {},
   "outputs": [],
   "source": [
    "#----------------------------------------------->list=\"is a collection of different elements\"\n",
    "#list is mutable i.e.can be modified like add,append,delete..\n"
   ]
  },
  {
   "cell_type": "code",
   "execution_count": 81,
   "id": "87bbf384-f102-49a1-bf3e-e7aa2089fecc",
   "metadata": {},
   "outputs": [],
   "source": [
    "a=[10,20,30.520488,40,\"school\",50]\n",
    "\n"
   ]
  },
  {
   "cell_type": "code",
   "execution_count": 83,
   "id": "6d892b84-0285-4f88-9df8-5ff22f45602e",
   "metadata": {},
   "outputs": [
    {
     "data": {
      "text/plain": [
       "30.520488"
      ]
     },
     "execution_count": 83,
     "metadata": {},
     "output_type": "execute_result"
    }
   ],
   "source": [
    "a[2]"
   ]
  },
  {
   "cell_type": "code",
   "execution_count": 84,
   "id": "1b68b383-32fc-43b9-aad7-d375392b648c",
   "metadata": {},
   "outputs": [
    {
     "data": {
      "text/plain": [
       "'school'"
      ]
     },
     "execution_count": 84,
     "metadata": {},
     "output_type": "execute_result"
    }
   ],
   "source": [
    "a[4]"
   ]
  },
  {
   "cell_type": "code",
   "execution_count": 86,
   "id": "48e2082e-9887-4d89-ad54-77df358d69a8",
   "metadata": {},
   "outputs": [
    {
     "data": {
      "text/plain": [
       "30.520488"
      ]
     },
     "execution_count": 86,
     "metadata": {},
     "output_type": "execute_result"
    }
   ],
   "source": [
    "a[-4]  # list supports -ve indexing"
   ]
  },
  {
   "cell_type": "code",
   "execution_count": 1,
   "id": "d89295b5-2e6c-4ef5-8797-b14958330c73",
   "metadata": {},
   "outputs": [],
   "source": [
    "#--------------------------------------------------------->list slicing\n",
    "                      # a[start : stop]\n",
    "                       #    |       |\n",
    "           # (from 0 )including    excludes(last specified number)\n",
    "#a[10,20,30,40,50]----->a[0:2]\n",
    "#returns values of a[0],a[1]."
   ]
  },
  {
   "cell_type": "code",
   "execution_count": 2,
   "id": "a6a19161-85e5-4bcf-ad4d-741da9e96ab1",
   "metadata": {},
   "outputs": [
    {
     "data": {
      "text/plain": [
       "[10, 20, 30, 40, 50]"
      ]
     },
     "execution_count": 2,
     "metadata": {},
     "output_type": "execute_result"
    }
   ],
   "source": [
    "a=[10,20,30,40,50]\n",
    "a[:]"
   ]
  },
  {
   "cell_type": "code",
   "execution_count": 3,
   "id": "27fcde99-0611-43c9-aaeb-31ad6b0beed0",
   "metadata": {},
   "outputs": [
    {
     "data": {
      "text/plain": [
       "[10, 20, 30, 40, 50]"
      ]
     },
     "execution_count": 3,
     "metadata": {},
     "output_type": "execute_result"
    }
   ],
   "source": [
    "a[0:]"
   ]
  },
  {
   "cell_type": "code",
   "execution_count": 5,
   "id": "4fb83ece-323f-48ec-ba03-bbfb3a6accc1",
   "metadata": {},
   "outputs": [
    {
     "data": {
      "text/plain": [
       "[10, 20, 30, 40]"
      ]
     },
     "execution_count": 5,
     "metadata": {},
     "output_type": "execute_result"
    }
   ],
   "source": [
    "a[:-1]"
   ]
  },
  {
   "cell_type": "code",
   "execution_count": 159,
   "id": "1b711904-4527-4e57-a8a8-ba146ddc113c",
   "metadata": {},
   "outputs": [
    {
     "data": {
      "text/plain": [
       "[10, 4]"
      ]
     },
     "execution_count": 159,
     "metadata": {},
     "output_type": "execute_result"
    }
   ],
   "source": [
    "a[0:4:2]"
   ]
  },
  {
   "cell_type": "code",
   "execution_count": 23,
   "id": "ee124083-3179-48c7-a039-ee0f7fff8fa6",
   "metadata": {},
   "outputs": [],
   "source": [
    "a[3]=a[1]=100"
   ]
  },
  {
   "cell_type": "code",
   "execution_count": 24,
   "id": "dc678a36-92cd-4db1-9678-06c69081e34d",
   "metadata": {},
   "outputs": [
    {
     "data": {
      "text/plain": [
       "[10, 100, 100, 100, 100]"
      ]
     },
     "execution_count": 24,
     "metadata": {},
     "output_type": "execute_result"
    }
   ],
   "source": [
    "a"
   ]
  },
  {
   "cell_type": "code",
   "execution_count": 25,
   "id": "ad90010b-01e5-44e8-8b15-8b7df44ce7e5",
   "metadata": {},
   "outputs": [
    {
     "data": {
      "text/plain": [
       "[[1, 2, 3], [4, 5, 6]]"
      ]
     },
     "execution_count": 25,
     "metadata": {},
     "output_type": "execute_result"
    }
   ],
   "source": [
    "#---------------->multidimnetional list\n",
    "a=[[1,2,3],[4,5,6]]\n",
    "a"
   ]
  },
  {
   "cell_type": "code",
   "execution_count": 26,
   "id": "e2b4ef93-7833-481b-bd58-c67abb41e7fa",
   "metadata": {},
   "outputs": [
    {
     "data": {
      "text/plain": [
       "[1, 2, 3]"
      ]
     },
     "execution_count": 26,
     "metadata": {},
     "output_type": "execute_result"
    }
   ],
   "source": [
    "a[0]"
   ]
  },
  {
   "cell_type": "code",
   "execution_count": 27,
   "id": "8a4f9768-4fce-4680-a37d-d385d851a460",
   "metadata": {},
   "outputs": [
    {
     "data": {
      "text/plain": [
       "[4, 5, 6]"
      ]
     },
     "execution_count": 27,
     "metadata": {},
     "output_type": "execute_result"
    }
   ],
   "source": [
    "a[1]"
   ]
  },
  {
   "cell_type": "code",
   "execution_count": 28,
   "id": "2e82250d-1d9e-49fd-a1b8-356d25a8619b",
   "metadata": {},
   "outputs": [
    {
     "data": {
      "text/plain": [
       "2"
      ]
     },
     "execution_count": 28,
     "metadata": {},
     "output_type": "execute_result"
    }
   ],
   "source": [
    "a[0][1]"
   ]
  },
  {
   "cell_type": "code",
   "execution_count": 30,
   "id": "d11c542f-4bc6-4dfa-b3c1-86e9ac2c7e5c",
   "metadata": {},
   "outputs": [
    {
     "data": {
      "text/plain": [
       "6"
      ]
     },
     "execution_count": 30,
     "metadata": {},
     "output_type": "execute_result"
    }
   ],
   "source": [
    "a[1][2]"
   ]
  },
  {
   "cell_type": "code",
   "execution_count": 31,
   "id": "d080f8a1-3c4c-42d8-b07a-efcba7e4f9f7",
   "metadata": {},
   "outputs": [],
   "source": [
    "#----------------------------->list operations like  +,*,sum,max,min,in,not in\n"
   ]
  },
  {
   "cell_type": "code",
   "execution_count": 34,
   "id": "8fd95b5f-93b8-4011-b166-7e0e9c40b974",
   "metadata": {},
   "outputs": [
    {
     "data": {
      "text/plain": [
       "[10, 20, 30, 40, 50, 60, 70, 80, 90, 100]"
      ]
     },
     "execution_count": 34,
     "metadata": {},
     "output_type": "execute_result"
    }
   ],
   "source": [
    "\n",
    "#operation '+'\n",
    "           #concatenates two list\n",
    "a=[10,20,30,40,50]\n",
    "b=[60,70,80,90,100]\n",
    "a+b"
   ]
  },
  {
   "cell_type": "code",
   "execution_count": 36,
   "id": "26d59640-6f1e-479d-9b70-20632b2280c8",
   "metadata": {},
   "outputs": [
    {
     "data": {
      "text/plain": [
       "[10, 20, 30, 40, 50, 10, 20, 30, 40, 50]"
      ]
     },
     "execution_count": 36,
     "metadata": {},
     "output_type": "execute_result"
    }
   ],
   "source": [
    "#'*' do's (replicates the list specified no.of time)  with only interger(not with another list)\n",
    "a*2"
   ]
  },
  {
   "cell_type": "code",
   "execution_count": 37,
   "id": "9ad8dc83-9273-438f-85f4-e6d44bb9c228",
   "metadata": {},
   "outputs": [],
   "source": [
    "import random\n",
    "random.shuffle(a)"
   ]
  },
  {
   "cell_type": "code",
   "execution_count": 38,
   "id": "585c420a-8180-4750-88ae-dba1eefe5f2d",
   "metadata": {},
   "outputs": [
    {
     "data": {
      "text/plain": [
       "[30, 50, 40, 20, 10]"
      ]
     },
     "execution_count": 38,
     "metadata": {},
     "output_type": "execute_result"
    }
   ],
   "source": [
    "a"
   ]
  },
  {
   "cell_type": "code",
   "execution_count": 39,
   "id": "ffe60909-9315-4bee-bdf7-030808a5834d",
   "metadata": {},
   "outputs": [
    {
     "data": {
      "text/plain": [
       "[30, 50, 40, 20, 10, 60, 70, 80, 90, 100]"
      ]
     },
     "execution_count": 39,
     "metadata": {},
     "output_type": "execute_result"
    }
   ],
   "source": [
    "a+b"
   ]
  },
  {
   "cell_type": "code",
   "execution_count": 40,
   "id": "1d614943-6ca6-4ad7-b96d-b89b645d299c",
   "metadata": {},
   "outputs": [
    {
     "data": {
      "text/plain": [
       "[30, 50, 40, 20, 10]"
      ]
     },
     "execution_count": 40,
     "metadata": {},
     "output_type": "execute_result"
    }
   ],
   "source": [
    "a"
   ]
  },
  {
   "cell_type": "code",
   "execution_count": 41,
   "id": "fda61fbc-f33f-4e8a-91da-66bc555b44e5",
   "metadata": {},
   "outputs": [
    {
     "data": {
      "text/plain": [
       "150"
      ]
     },
     "execution_count": 41,
     "metadata": {},
     "output_type": "execute_result"
    }
   ],
   "source": [
    "sum(a)"
   ]
  },
  {
   "cell_type": "code",
   "execution_count": 42,
   "id": "f879be30-1b9a-46e8-b69f-f5ef1461e108",
   "metadata": {},
   "outputs": [
    {
     "data": {
      "text/plain": [
       "50"
      ]
     },
     "execution_count": 42,
     "metadata": {},
     "output_type": "execute_result"
    }
   ],
   "source": [
    "max(a)"
   ]
  },
  {
   "cell_type": "code",
   "execution_count": 43,
   "id": "c71b8484-81fa-45fb-aeed-c566411f5dbc",
   "metadata": {},
   "outputs": [
    {
     "data": {
      "text/plain": [
       "60"
      ]
     },
     "execution_count": 43,
     "metadata": {},
     "output_type": "execute_result"
    }
   ],
   "source": [
    "min(b)"
   ]
  },
  {
   "cell_type": "code",
   "execution_count": 44,
   "id": "0f7f3b2a-c8b0-4314-bdc1-0b7fc7a61996",
   "metadata": {},
   "outputs": [
    {
     "data": {
      "text/plain": [
       "[60, 70, 80, 90, 100]"
      ]
     },
     "execution_count": 44,
     "metadata": {},
     "output_type": "execute_result"
    }
   ],
   "source": [
    "b"
   ]
  },
  {
   "cell_type": "code",
   "execution_count": 46,
   "id": "d40e19cb-eef7-45e7-8d2b-0baf56f81926",
   "metadata": {},
   "outputs": [
    {
     "data": {
      "text/plain": [
       "True"
      ]
     },
     "execution_count": 46,
     "metadata": {},
     "output_type": "execute_result"
    }
   ],
   "source": [
    " 70 in b"
   ]
  },
  {
   "cell_type": "code",
   "execution_count": 47,
   "id": "7396a1f2-14f9-49fe-9158-bc982acf24e0",
   "metadata": {},
   "outputs": [
    {
     "data": {
      "text/plain": [
       "False"
      ]
     },
     "execution_count": 47,
     "metadata": {},
     "output_type": "execute_result"
    }
   ],
   "source": [
    "100 in a"
   ]
  },
  {
   "cell_type": "code",
   "execution_count": 48,
   "id": "178a8c93-d193-4b26-9b2f-e3e435f7633c",
   "metadata": {},
   "outputs": [
    {
     "data": {
      "text/plain": [
       "True"
      ]
     },
     "execution_count": 48,
     "metadata": {},
     "output_type": "execute_result"
    }
   ],
   "source": [
    "100 not in a"
   ]
  },
  {
   "cell_type": "code",
   "execution_count": 62,
   "id": "bc00569f-f1ba-409e-b2f5-d62bf3c892d8",
   "metadata": {},
   "outputs": [
    {
     "name": "stdout",
     "output_type": "stream",
     "text": [
      "60\n",
      "70\n",
      "80\n",
      "90\n",
      "100\n"
     ]
    }
   ],
   "source": [
    "a=[60, 70, 80, 90, 100]\n",
    "for i in range(len(a)):\n",
    "    print(a[i])"
   ]
  },
  {
   "cell_type": "code",
   "execution_count": 65,
   "id": "c2fff96d-9813-4d2f-8458-d20f06f3ff41",
   "metadata": {},
   "outputs": [
    {
     "name": "stdout",
     "output_type": "stream",
     "text": [
      "60\n",
      "70\n",
      "80\n",
      "90\n",
      "100\n"
     ]
    }
   ],
   "source": [
    "a=[60, 70, 80, 90, 100]\n",
    "for i in a :\n",
    "    print(i)\n"
   ]
  },
  {
   "cell_type": "code",
   "execution_count": 66,
   "id": "9e9ed145-5ba8-4fe9-8464-0c874c560786",
   "metadata": {},
   "outputs": [],
   "source": [
    "#------------------------------------------------------------>list  built in methods/funtions =append,insert,extend,del,pop,remove,count,index,sort,reverse\n",
    "a=[60, 70, 80, 90, 100]\n",
    "a.append(10)#adds new element at the end of the list"
   ]
  },
  {
   "cell_type": "code",
   "execution_count": 67,
   "id": "4e04cad6-3dd7-482e-9003-bcafaf97d86e",
   "metadata": {},
   "outputs": [
    {
     "data": {
      "text/plain": [
       "[60, 70, 80, 90, 100, 10]"
      ]
     },
     "execution_count": 67,
     "metadata": {},
     "output_type": "execute_result"
    }
   ],
   "source": [
    "a"
   ]
  },
  {
   "cell_type": "code",
   "execution_count": 68,
   "id": "9d629d01-f2ab-49b2-b02b-f3a2434ef945",
   "metadata": {},
   "outputs": [
    {
     "data": {
      "text/plain": [
       "[60, 70, 80, 90, 100, 10, 20]"
      ]
     },
     "execution_count": 68,
     "metadata": {},
     "output_type": "execute_result"
    }
   ],
   "source": [
    "a.append(20)\n",
    "a"
   ]
  },
  {
   "cell_type": "code",
   "execution_count": 69,
   "id": "03e78142-ccaf-4bb1-9157-f7894e982084",
   "metadata": {},
   "outputs": [],
   "source": [
    "a.append([30,40])#considers the list as one adding argument"
   ]
  },
  {
   "cell_type": "code",
   "execution_count": 70,
   "id": "0c78ea6e-5a3a-445c-a1eb-1ef4b963e82f",
   "metadata": {},
   "outputs": [
    {
     "data": {
      "text/plain": [
       "[60, 70, 80, 90, 100, 10, 20, [30, 40]]"
      ]
     },
     "execution_count": 70,
     "metadata": {},
     "output_type": "execute_result"
    }
   ],
   "source": [
    "a"
   ]
  },
  {
   "cell_type": "code",
   "execution_count": 71,
   "id": "78b687b9-92c8-4553-87fc-6ab09ea4c171",
   "metadata": {},
   "outputs": [
    {
     "ename": "TypeError",
     "evalue": "list.append() takes exactly one argument (2 given)",
     "output_type": "error",
     "traceback": [
      "\u001b[1;31m---------------------------------------------------------------------------\u001b[0m",
      "\u001b[1;31mTypeError\u001b[0m                                 Traceback (most recent call last)",
      "Cell \u001b[1;32mIn[71], line 1\u001b[0m\n\u001b[1;32m----> 1\u001b[0m \u001b[43ma\u001b[49m\u001b[38;5;241;43m.\u001b[39;49m\u001b[43mappend\u001b[49m\u001b[43m(\u001b[49m\u001b[38;5;241;43m30\u001b[39;49m\u001b[43m,\u001b[49m\u001b[38;5;241;43m40\u001b[39;49m\u001b[43m)\u001b[49m\n",
      "\u001b[1;31mTypeError\u001b[0m: list.append() takes exactly one argument (2 given)"
     ]
    }
   ],
   "source": [
    "a.append(30,40)"
   ]
  },
  {
   "cell_type": "code",
   "execution_count": 73,
   "id": "c68e51e1-636a-4a5f-9260-a84ed0a5465e",
   "metadata": {},
   "outputs": [
    {
     "ename": "TypeError",
     "evalue": "list.append() takes exactly one argument (2 given)",
     "output_type": "error",
     "traceback": [
      "\u001b[1;31m---------------------------------------------------------------------------\u001b[0m",
      "\u001b[1;31mTypeError\u001b[0m                                 Traceback (most recent call last)",
      "Cell \u001b[1;32mIn[73], line 1\u001b[0m\n\u001b[1;32m----> 1\u001b[0m \u001b[43ma\u001b[49m\u001b[38;5;241;43m.\u001b[39;49m\u001b[43mappend\u001b[49m\u001b[43m(\u001b[49m\u001b[43m[\u001b[49m\u001b[38;5;241;43m1\u001b[39;49m\u001b[43m,\u001b[49m\u001b[38;5;241;43m2\u001b[39;49m\u001b[43m]\u001b[49m\u001b[43m,\u001b[49m\u001b[43m[\u001b[49m\u001b[38;5;241;43m3\u001b[39;49m\u001b[43m,\u001b[49m\u001b[38;5;241;43m4\u001b[39;49m\u001b[43m]\u001b[49m\u001b[43m)\u001b[49m\n",
      "\u001b[1;31mTypeError\u001b[0m: list.append() takes exactly one argument (2 given)"
     ]
    }
   ],
   "source": [
    "a.append([1,2],[3,4])"
   ]
  },
  {
   "cell_type": "code",
   "execution_count": 75,
   "id": "336a9099-f51a-43c6-a435-3d610be79c86",
   "metadata": {},
   "outputs": [],
   "source": [
    "a.extend([50,110])#adds no.of elements in the form of the list"
   ]
  },
  {
   "cell_type": "code",
   "execution_count": 76,
   "id": "a4691ecd-9798-488c-973f-55e91907673c",
   "metadata": {},
   "outputs": [
    {
     "data": {
      "text/plain": [
       "[60, 70, 80, 90, 100, 10, 20, [30, 40], 50, 110]"
      ]
     },
     "execution_count": 76,
     "metadata": {},
     "output_type": "execute_result"
    }
   ],
   "source": [
    "a"
   ]
  },
  {
   "cell_type": "code",
   "execution_count": 77,
   "id": "9b7a82ce-2381-4770-b0fc-c43a6a5aa1ed",
   "metadata": {},
   "outputs": [
    {
     "ename": "TypeError",
     "evalue": "list.extend() takes exactly one argument (2 given)",
     "output_type": "error",
     "traceback": [
      "\u001b[1;31m---------------------------------------------------------------------------\u001b[0m",
      "\u001b[1;31mTypeError\u001b[0m                                 Traceback (most recent call last)",
      "Cell \u001b[1;32mIn[77], line 1\u001b[0m\n\u001b[1;32m----> 1\u001b[0m \u001b[43ma\u001b[49m\u001b[38;5;241;43m.\u001b[39;49m\u001b[43mextend\u001b[49m\u001b[43m(\u001b[49m\u001b[43m[\u001b[49m\u001b[38;5;241;43m50\u001b[39;49m\u001b[43m,\u001b[49m\u001b[38;5;241;43m110\u001b[39;49m\u001b[43m]\u001b[49m\u001b[43m,\u001b[49m\u001b[43m[\u001b[49m\u001b[38;5;241;43m1\u001b[39;49m\u001b[43m,\u001b[49m\u001b[38;5;241;43m2\u001b[39;49m\u001b[43m,\u001b[49m\u001b[38;5;241;43m3\u001b[39;49m\u001b[43m]\u001b[49m\u001b[43m)\u001b[49m\n",
      "\u001b[1;31mTypeError\u001b[0m: list.extend() takes exactly one argument (2 given)"
     ]
    }
   ],
   "source": [
    "a.extend([50,110],[1,2,3])"
   ]
  },
  {
   "cell_type": "code",
   "execution_count": 78,
   "id": "b6e5e769-3867-4fb2-b249-7a749e5f49e0",
   "metadata": {},
   "outputs": [],
   "source": [
    "a.insert(3,92)#inserts the element at specified postion in a list\n",
    "#adds the element 92 in a[3] that is 4th position"
   ]
  },
  {
   "cell_type": "code",
   "execution_count": 79,
   "id": "9deb3806-cc3e-4942-86fe-68b8ccbcaac6",
   "metadata": {},
   "outputs": [
    {
     "data": {
      "text/plain": [
       "[60, 70, 80, 92, 90, 100, 10, 20, [30, 40], 50, 110]"
      ]
     },
     "execution_count": 79,
     "metadata": {},
     "output_type": "execute_result"
    }
   ],
   "source": [
    "a"
   ]
  },
  {
   "cell_type": "code",
   "execution_count": 82,
   "id": "f2252296-396e-4a49-b006-d73db8c86874",
   "metadata": {},
   "outputs": [
    {
     "data": {
      "text/plain": [
       "[60, 70, 80, 92, 90, 100, 10, 20, [30, 40], 50, 110]"
      ]
     },
     "execution_count": 82,
     "metadata": {},
     "output_type": "execute_result"
    }
   ],
   "source": [
    "a\n"
   ]
  },
  {
   "cell_type": "code",
   "execution_count": 95,
   "id": "b2b16deb-e049-417b-a8c9-7015b14a5de3",
   "metadata": {},
   "outputs": [
    {
     "ename": "TypeError",
     "evalue": "list indices must be integers or slices, not tuple",
     "output_type": "error",
     "traceback": [
      "\u001b[1;31m---------------------------------------------------------------------------\u001b[0m",
      "\u001b[1;31mTypeError\u001b[0m                                 Traceback (most recent call last)",
      "Cell \u001b[1;32mIn[95], line 2\u001b[0m\n\u001b[0;32m      1\u001b[0m a\u001b[38;5;241m=\u001b[39m[\u001b[38;5;241m1\u001b[39m,\u001b[38;5;241m2\u001b[39m,\u001b[38;5;241m3\u001b[39m,\u001b[38;5;241m4\u001b[39m,\u001b[38;5;241m5\u001b[39m,\u001b[38;5;241m6\u001b[39m,\u001b[38;5;241m7\u001b[39m,\u001b[38;5;241m8\u001b[39m,\u001b[38;5;241m9\u001b[39m,\u001b[38;5;241m10\u001b[39m]\n\u001b[1;32m----> 2\u001b[0m a\u001b[38;5;241m.\u001b[39mremove(\u001b[43ma\u001b[49m\u001b[43m[\u001b[49m\u001b[38;5;241;43m1\u001b[39;49m\u001b[43m,\u001b[49m\u001b[38;5;241;43m2\u001b[39;49m\u001b[43m]\u001b[49m)\n",
      "\u001b[1;31mTypeError\u001b[0m: list indices must be integers or slices, not tuple"
     ]
    }
   ],
   "source": [
    "a=[1,2,3,4,5,6,7,8,9,10]\n",
    "a.remove(a[1])"
   ]
  },
  {
   "cell_type": "code",
   "execution_count": 87,
   "id": "425cd666-5565-45f7-af72-378f951e43aa",
   "metadata": {},
   "outputs": [
    {
     "data": {
      "text/plain": [
       "[1, 3, 4, 5, 6, 7, 8, 9, 10]"
      ]
     },
     "execution_count": 87,
     "metadata": {},
     "output_type": "execute_result"
    }
   ],
   "source": [
    "a"
   ]
  },
  {
   "cell_type": "code",
   "execution_count": 88,
   "id": "8ac91076-ed81-459d-9609-9c29e2187fad",
   "metadata": {},
   "outputs": [
    {
     "data": {
      "text/plain": [
       "10"
      ]
     },
     "execution_count": 88,
     "metadata": {},
     "output_type": "execute_result"
    }
   ],
   "source": [
    "a.pop()#remves the last  added element by default"
   ]
  },
  {
   "cell_type": "code",
   "execution_count": 89,
   "id": "8be0835e-76ca-4310-b2fb-20c9c1b4490f",
   "metadata": {},
   "outputs": [
    {
     "data": {
      "text/plain": [
       "[1, 3, 4, 5, 6, 7, 8, 9]"
      ]
     },
     "execution_count": 89,
     "metadata": {},
     "output_type": "execute_result"
    }
   ],
   "source": [
    "a"
   ]
  },
  {
   "cell_type": "code",
   "execution_count": 97,
   "id": "ca646d49-33a9-48f6-bcd5-496e947ba7b9",
   "metadata": {},
   "outputs": [],
   "source": [
    "del a[:]"
   ]
  },
  {
   "cell_type": "code",
   "execution_count": 98,
   "id": "91e00efb-fd41-4940-b286-4b2a2cd8b1dc",
   "metadata": {},
   "outputs": [
    {
     "data": {
      "text/plain": [
       "[]"
      ]
     },
     "execution_count": 98,
     "metadata": {},
     "output_type": "execute_result"
    }
   ],
   "source": [
    "a"
   ]
  },
  {
   "cell_type": "code",
   "execution_count": 108,
   "id": "666c1b6f-171b-412c-87b8-bd14972f2430",
   "metadata": {},
   "outputs": [],
   "source": [
    "a=[1,2,3,4,5]"
   ]
  },
  {
   "cell_type": "code",
   "execution_count": 109,
   "id": "e0cebf05-90e8-4164-b543-e946273134d6",
   "metadata": {},
   "outputs": [],
   "source": [
    "a=a*3"
   ]
  },
  {
   "cell_type": "code",
   "execution_count": 110,
   "id": "4a0cd57a-c18e-41a9-a356-aef79771a93d",
   "metadata": {},
   "outputs": [
    {
     "data": {
      "text/plain": [
       "[1, 2, 3, 4, 5, 1, 2, 3, 4, 5, 1, 2, 3, 4, 5]"
      ]
     },
     "execution_count": 110,
     "metadata": {},
     "output_type": "execute_result"
    }
   ],
   "source": [
    "a"
   ]
  },
  {
   "cell_type": "code",
   "execution_count": 113,
   "id": "3ba16416-93f6-43a9-adf9-64ab461b3986",
   "metadata": {},
   "outputs": [
    {
     "data": {
      "text/plain": [
       "3"
      ]
     },
     "execution_count": 113,
     "metadata": {},
     "output_type": "execute_result"
    }
   ],
   "source": [
    "a.count(2)#counts the no.of times the given number is repeated in the given list"
   ]
  },
  {
   "cell_type": "code",
   "execution_count": 114,
   "id": "2ca29fa6-246f-4dd6-9f79-aa1c62fa08a9",
   "metadata": {},
   "outputs": [
    {
     "ename": "AttributeError",
     "evalue": "'list' object has no attribute 'find'",
     "output_type": "error",
     "traceback": [
      "\u001b[1;31m---------------------------------------------------------------------------\u001b[0m",
      "\u001b[1;31mAttributeError\u001b[0m                            Traceback (most recent call last)",
      "Cell \u001b[1;32mIn[114], line 1\u001b[0m\n\u001b[1;32m----> 1\u001b[0m \u001b[43ma\u001b[49m\u001b[38;5;241;43m.\u001b[39;49m\u001b[43mfind\u001b[49m(\u001b[38;5;241m20\u001b[39m)\n",
      "\u001b[1;31mAttributeError\u001b[0m: 'list' object has no attribute 'find'"
     ]
    }
   ],
   "source": []
  },
  {
   "cell_type": "code",
   "execution_count": 115,
   "id": "0933089e-16a1-45bd-b7a1-bc6b92fd11cb",
   "metadata": {},
   "outputs": [
    {
     "data": {
      "text/plain": [
       "1"
      ]
     },
     "execution_count": 115,
     "metadata": {},
     "output_type": "execute_result"
    }
   ],
   "source": [
    "a.index(2)#gives the index of given number"
   ]
  },
  {
   "cell_type": "code",
   "execution_count": 116,
   "id": "02718cdf-0e0e-445e-9fd9-010da8d4dff4",
   "metadata": {},
   "outputs": [
    {
     "data": {
      "text/plain": [
       "[1, 2, 3, 4, 5, 1, 2, 3, 4, 5, 1, 2, 3, 4, 5]"
      ]
     },
     "execution_count": 116,
     "metadata": {},
     "output_type": "execute_result"
    }
   ],
   "source": [
    "a"
   ]
  },
  {
   "cell_type": "code",
   "execution_count": 117,
   "id": "9dcc2927-13d9-4ef9-8094-98a1085bca0c",
   "metadata": {},
   "outputs": [],
   "source": [
    "a=[1,2,3,4,5,6,7,8,9,10]"
   ]
  },
  {
   "cell_type": "code",
   "execution_count": 118,
   "id": "4706883b-81fa-4a18-ad75-43e15fca83e9",
   "metadata": {},
   "outputs": [
    {
     "data": {
      "text/plain": [
       "9"
      ]
     },
     "execution_count": 118,
     "metadata": {},
     "output_type": "execute_result"
    }
   ],
   "source": [
    "a.index(10)"
   ]
  },
  {
   "cell_type": "code",
   "execution_count": 119,
   "id": "a80426b1-70df-481e-bcf6-10ddefa0b04c",
   "metadata": {},
   "outputs": [
    {
     "data": {
      "text/plain": [
       "[3, 1, 7, 4, 6, 10, 8, 5, 2, 9]"
      ]
     },
     "execution_count": 119,
     "metadata": {},
     "output_type": "execute_result"
    }
   ],
   "source": [
    "import random\n",
    "random.shuffle(a)\n",
    "a"
   ]
  },
  {
   "cell_type": "code",
   "execution_count": 120,
   "id": "160361c7-8a60-4f26-a4dd-e526e5ad3b35",
   "metadata": {},
   "outputs": [],
   "source": [
    "a.sort()#defaultly gives output in ascending order"
   ]
  },
  {
   "cell_type": "code",
   "execution_count": 121,
   "id": "e82a6ddf-0249-40bc-805c-bcc2db936391",
   "metadata": {},
   "outputs": [
    {
     "data": {
      "text/plain": [
       "[1, 2, 3, 4, 5, 6, 7, 8, 9, 10]"
      ]
     },
     "execution_count": 121,
     "metadata": {},
     "output_type": "execute_result"
    }
   ],
   "source": [
    "a"
   ]
  },
  {
   "cell_type": "code",
   "execution_count": 122,
   "id": "b64e76b4-9530-4d5a-b039-3d79f1961fdb",
   "metadata": {},
   "outputs": [],
   "source": [
    "a.sort(reverse=True)#gives output in decending order"
   ]
  },
  {
   "cell_type": "code",
   "execution_count": 123,
   "id": "efafa89a-4cac-4471-be5c-f6b40cc4e1a2",
   "metadata": {},
   "outputs": [
    {
     "data": {
      "text/plain": [
       "[10, 9, 8, 7, 6, 5, 4, 3, 2, 1]"
      ]
     },
     "execution_count": 123,
     "metadata": {},
     "output_type": "execute_result"
    }
   ],
   "source": [
    "a"
   ]
  },
  {
   "cell_type": "code",
   "execution_count": 124,
   "id": "d0d884a3-d359-4f2c-8e2e-9c2b60bcbc10",
   "metadata": {},
   "outputs": [
    {
     "data": {
      "text/plain": [
       "[10, 9, 8, 7, 6, 5, 4, 3, 2, 1]"
      ]
     },
     "execution_count": 124,
     "metadata": {},
     "output_type": "execute_result"
    }
   ],
   "source": [
    "a"
   ]
  },
  {
   "cell_type": "code",
   "execution_count": 125,
   "id": "6ffc2465-17df-4606-b22a-aa074eb2c42c",
   "metadata": {},
   "outputs": [],
   "source": [
    "a.sort()"
   ]
  },
  {
   "cell_type": "code",
   "execution_count": 126,
   "id": "8885e499-0054-4415-b95d-4097c71f0d76",
   "metadata": {},
   "outputs": [
    {
     "data": {
      "text/plain": [
       "[1, 2, 3, 4, 5, 6, 7, 8, 9, 10]"
      ]
     },
     "execution_count": 126,
     "metadata": {},
     "output_type": "execute_result"
    }
   ],
   "source": [
    "a"
   ]
  },
  {
   "cell_type": "code",
   "execution_count": 127,
   "id": "166c8a5c-0af3-4d3a-ab3c-51c0809e9251",
   "metadata": {},
   "outputs": [
    {
     "data": {
      "text/plain": [
       "[10, 9, 8, 7, 6, 5, 4, 3, 2, 1]"
      ]
     },
     "execution_count": 127,
     "metadata": {},
     "output_type": "execute_result"
    }
   ],
   "source": [
    "a.reverse()\n",
    "a"
   ]
  },
  {
   "cell_type": "code",
   "execution_count": 130,
   "id": "c9725037-f615-49fd-85e2-aecb2908ce5f",
   "metadata": {},
   "outputs": [
    {
     "data": {
      "text/plain": [
       "[0, 2, 4, 6, 8]"
      ]
     },
     "execution_count": 130,
     "metadata": {},
     "output_type": "execute_result"
    }
   ],
   "source": [
    "#---------------------------------------------------------->list comprehension\n",
    "a=[i for i in range(10) if i%2==0] #printing all the even no's\n",
    "a"
   ]
  },
  {
   "cell_type": "code",
   "execution_count": 136,
   "id": "e782fce7-6215-4877-9b88-09599e2fcc34",
   "metadata": {},
   "outputs": [
    {
     "data": {
      "text/plain": [
       "[0, 1, 8, 27, 64, 125, 216, 343, 512, 729]"
      ]
     },
     "execution_count": 136,
     "metadata": {},
     "output_type": "execute_result"
    }
   ],
   "source": [
    "a=[i**3 for i in range(10)] #printing all the cubes \n",
    "a"
   ]
  },
  {
   "cell_type": "code",
   "execution_count": 248,
   "id": "c211829e-646c-4569-bc12-0eae84a8f6f8",
   "metadata": {},
   "outputs": [
    {
     "data": {
      "text/plain": [
       "[1]"
      ]
     },
     "execution_count": 248,
     "metadata": {},
     "output_type": "execute_result"
    }
   ],
   "source": [
    "a=[1]#list can be creatd even with one element in it \n",
    "a"
   ]
  },
  {
   "cell_type": "code",
   "execution_count": 141,
   "id": "aeec070a-bce6-4909-b6b6-c361ac55639b",
   "metadata": {},
   "outputs": [
    {
     "data": {
      "text/plain": [
       "[1, 4, 9, 16, 25, 36, 49, 64, 81, 100]"
      ]
     },
     "execution_count": 141,
     "metadata": {},
     "output_type": "execute_result"
    }
   ],
   "source": [
    "a=[i*i for i in range(1,11) ]\n",
    "a"
   ]
  },
  {
   "cell_type": "code",
   "execution_count": 160,
   "id": "b2d45b4b-806c-4268-865d-703d5054e1de",
   "metadata": {},
   "outputs": [],
   "source": [
    "#------------------------------------------------------------->tuple\n",
    "#tuple is immutable(we can not make the changes)\n",
    "#tuple is declared in parathesis"
   ]
  },
  {
   "cell_type": "code",
   "execution_count": 164,
   "id": "15611eb1-c441-417d-9438-5da5451940cd",
   "metadata": {},
   "outputs": [
    {
     "data": {
      "text/plain": [
       "()"
      ]
     },
     "execution_count": 164,
     "metadata": {},
     "output_type": "execute_result"
    }
   ],
   "source": [
    "a=tuple()\n",
    "a\n"
   ]
  },
  {
   "cell_type": "code",
   "execution_count": 165,
   "id": "2a7eaadf-d3f9-44b1-add4-c01d4d8bebf1",
   "metadata": {},
   "outputs": [
    {
     "data": {
      "text/plain": [
       "tuple"
      ]
     },
     "execution_count": 165,
     "metadata": {},
     "output_type": "execute_result"
    }
   ],
   "source": [
    "type(a)"
   ]
  },
  {
   "cell_type": "code",
   "execution_count": 167,
   "id": "ed0093fa-fb95-4a8b-8810-9ad7ea46aee2",
   "metadata": {},
   "outputs": [],
   "source": [
    "a=(1,2,3,4,5)"
   ]
  },
  {
   "cell_type": "code",
   "execution_count": 168,
   "id": "6d72ffd2-00bf-428b-a048-cee3c18419e5",
   "metadata": {},
   "outputs": [
    {
     "ename": "AttributeError",
     "evalue": "'tuple' object has no attribute 'append'",
     "output_type": "error",
     "traceback": [
      "\u001b[1;31m---------------------------------------------------------------------------\u001b[0m",
      "\u001b[1;31mAttributeError\u001b[0m                            Traceback (most recent call last)",
      "Cell \u001b[1;32mIn[168], line 1\u001b[0m\n\u001b[1;32m----> 1\u001b[0m \u001b[43ma\u001b[49m\u001b[38;5;241;43m.\u001b[39;49m\u001b[43mappend\u001b[49m(\u001b[38;5;241m10\u001b[39m)\n",
      "\u001b[1;31mAttributeError\u001b[0m: 'tuple' object has no attribute 'append'"
     ]
    }
   ],
   "source": [
    "a.append(10)"
   ]
  },
  {
   "cell_type": "code",
   "execution_count": 169,
   "id": "53629ac0-56f7-42d7-b29f-f2bbb5cf913f",
   "metadata": {},
   "outputs": [],
   "source": [
    "a=a+a"
   ]
  },
  {
   "cell_type": "code",
   "execution_count": 170,
   "id": "66a5f809-3da8-40f3-b109-08241ee0739d",
   "metadata": {},
   "outputs": [
    {
     "data": {
      "text/plain": [
       "(1, 2, 3, 4, 5, 1, 2, 3, 4, 5)"
      ]
     },
     "execution_count": 170,
     "metadata": {},
     "output_type": "execute_result"
    }
   ],
   "source": [
    "a"
   ]
  },
  {
   "cell_type": "code",
   "execution_count": 174,
   "id": "0a541bff-4774-4040-ad89-d6df7049a066",
   "metadata": {},
   "outputs": [
    {
     "data": {
      "text/plain": [
       "4"
      ]
     },
     "execution_count": 174,
     "metadata": {},
     "output_type": "execute_result"
    }
   ],
   "source": [
    "a[3]"
   ]
  },
  {
   "cell_type": "code",
   "execution_count": 175,
   "id": "24005b16-ff03-4578-888c-7b11f705b15a",
   "metadata": {},
   "outputs": [
    {
     "data": {
      "text/plain": [
       "5"
      ]
     },
     "execution_count": 175,
     "metadata": {},
     "output_type": "execute_result"
    }
   ],
   "source": [
    "a[-1]"
   ]
  },
  {
   "cell_type": "code",
   "execution_count": 192,
   "id": "42501094-6de8-43c5-8c42-d5f164e0a863",
   "metadata": {},
   "outputs": [],
   "source": [
    "#conversion of tuple to list\n",
    "a=list(a)"
   ]
  },
  {
   "cell_type": "code",
   "execution_count": 193,
   "id": "3ea27c26-fe7b-40d8-b9ec-62db53fc4637",
   "metadata": {},
   "outputs": [
    {
     "data": {
      "text/plain": [
       "[[1, 2, 3], [10, 20, 30]]"
      ]
     },
     "execution_count": 193,
     "metadata": {},
     "output_type": "execute_result"
    }
   ],
   "source": [
    "a"
   ]
  },
  {
   "cell_type": "code",
   "execution_count": 194,
   "id": "7adb7ea2-0d77-400f-acca-1261c7c27bd1",
   "metadata": {},
   "outputs": [],
   "source": [
    "a.append('kits')"
   ]
  },
  {
   "cell_type": "code",
   "execution_count": 195,
   "id": "79306e73-ab6d-4af8-86fc-2f8199ce8447",
   "metadata": {},
   "outputs": [
    {
     "data": {
      "text/plain": [
       "[[1, 2, 3], [10, 20, 30], 'kits']"
      ]
     },
     "execution_count": 195,
     "metadata": {},
     "output_type": "execute_result"
    }
   ],
   "source": [
    "a"
   ]
  },
  {
   "cell_type": "code",
   "execution_count": 197,
   "id": "a8231e3b-783a-4077-9e78-c29c7c71763f",
   "metadata": {},
   "outputs": [
    {
     "data": {
      "text/plain": [
       "([1, 2, 3], [10, 20, 30], 'kits')"
      ]
     },
     "execution_count": 197,
     "metadata": {},
     "output_type": "execute_result"
    }
   ],
   "source": [
    "#conversion of list to tuple\n",
    "a=tuple(a)\n",
    "a"
   ]
  },
  {
   "cell_type": "code",
   "execution_count": 198,
   "id": "82772fe5-f313-4b23-b2ce-ce2174b83d82",
   "metadata": {},
   "outputs": [
    {
     "ename": "AttributeError",
     "evalue": "'tuple' object has no attribute 'append'",
     "output_type": "error",
     "traceback": [
      "\u001b[1;31m---------------------------------------------------------------------------\u001b[0m",
      "\u001b[1;31mAttributeError\u001b[0m                            Traceback (most recent call last)",
      "Cell \u001b[1;32mIn[198], line 1\u001b[0m\n\u001b[1;32m----> 1\u001b[0m \u001b[43ma\u001b[49m\u001b[38;5;241;43m.\u001b[39;49m\u001b[43mappend\u001b[49m(\u001b[38;5;241m100\u001b[39m)\n",
      "\u001b[1;31mAttributeError\u001b[0m: 'tuple' object has no attribute 'append'"
     ]
    }
   ],
   "source": [
    "a.append(100)"
   ]
  },
  {
   "cell_type": "code",
   "execution_count": 199,
   "id": "aaa13adf-aa03-438e-a8c6-2f6d61a4303d",
   "metadata": {},
   "outputs": [],
   "source": [
    "#-------------------------------------------->tuple  operations\n",
    "a=tuple()\n"
   ]
  },
  {
   "cell_type": "code",
   "execution_count": 205,
   "id": "08ffeb1f-6346-4856-bd36-f7ae6c568e46",
   "metadata": {},
   "outputs": [],
   "source": [
    "a=(10,20,30)"
   ]
  },
  {
   "cell_type": "code",
   "execution_count": 206,
   "id": "40506d42-57da-4658-a5fb-b699b62d302f",
   "metadata": {},
   "outputs": [
    {
     "data": {
      "text/plain": [
       "(10, 20, 30, 10, 20, 30)"
      ]
     },
     "execution_count": 206,
     "metadata": {},
     "output_type": "execute_result"
    }
   ],
   "source": [
    "a*2#dublicates the elemnets as specified no.of times"
   ]
  },
  {
   "cell_type": "code",
   "execution_count": 202,
   "id": "fdc9c31c-f61c-477f-9c88-80c5f2b016f9",
   "metadata": {},
   "outputs": [
    {
     "data": {
      "text/plain": [
       "(10, 20, 30, 40, 50, 10, 20, 30, 40, 50)"
      ]
     },
     "execution_count": 202,
     "metadata": {},
     "output_type": "execute_result"
    }
   ],
   "source": [
    "a"
   ]
  },
  {
   "cell_type": "code",
   "execution_count": 207,
   "id": "ece7e898-0a89-4286-8202-2b9b94ac8dc9",
   "metadata": {},
   "outputs": [],
   "source": [
    "a=a+a #concatenate the two list"
   ]
  },
  {
   "cell_type": "code",
   "execution_count": 208,
   "id": "fdcb0032-7009-4834-b9f3-c46c41f4b509",
   "metadata": {},
   "outputs": [
    {
     "data": {
      "text/plain": [
       "(10, 20, 30, 10, 20, 30)"
      ]
     },
     "execution_count": 208,
     "metadata": {},
     "output_type": "execute_result"
    }
   ],
   "source": [
    "a"
   ]
  },
  {
   "cell_type": "code",
   "execution_count": 211,
   "id": "e1100d33-a287-4335-86b8-25fc32325f6f",
   "metadata": {},
   "outputs": [
    {
     "data": {
      "text/plain": [
       "60"
      ]
     },
     "execution_count": 211,
     "metadata": {},
     "output_type": "execute_result"
    }
   ],
   "source": [
    "a=(10,20,30)\n",
    "sum(a) #gives sum of elements"
   ]
  },
  {
   "cell_type": "code",
   "execution_count": 212,
   "id": "998491e5-a546-4e32-b525-0e85b39d6a50",
   "metadata": {},
   "outputs": [
    {
     "data": {
      "text/plain": [
       "3"
      ]
     },
     "execution_count": 212,
     "metadata": {},
     "output_type": "execute_result"
    }
   ],
   "source": [
    "len(a)  #gives len of elements"
   ]
  },
  {
   "cell_type": "code",
   "execution_count": 214,
   "id": "f26e1bcb-ccc6-425b-8d3d-be92a4e7e058",
   "metadata": {},
   "outputs": [
    {
     "data": {
      "text/plain": [
       "10"
      ]
     },
     "execution_count": 214,
     "metadata": {},
     "output_type": "execute_result"
    }
   ],
   "source": [
    "min(a)  #gives minimum of elements\n"
   ]
  },
  {
   "cell_type": "code",
   "execution_count": 215,
   "id": "e03dfb45-6443-48cb-8dc4-e8f2012486f1",
   "metadata": {},
   "outputs": [
    {
     "data": {
      "text/plain": [
       "30"
      ]
     },
     "execution_count": 215,
     "metadata": {},
     "output_type": "execute_result"
    }
   ],
   "source": [
    "max(a)  #gives maximum of elements"
   ]
  },
  {
   "cell_type": "code",
   "execution_count": 216,
   "id": "81bc19c2-777a-4710-a3b8-c74edeeb5b31",
   "metadata": {},
   "outputs": [
    {
     "data": {
      "text/plain": [
       "True"
      ]
     },
     "execution_count": 216,
     "metadata": {},
     "output_type": "execute_result"
    }
   ],
   "source": [
    "10 in a  #membership operators i.e in & not in"
   ]
  },
  {
   "cell_type": "code",
   "execution_count": 219,
   "id": "14c52572-a4a9-4c33-a4b5-d29eda1c9647",
   "metadata": {},
   "outputs": [
    {
     "data": {
      "text/plain": [
       "True"
      ]
     },
     "execution_count": 219,
     "metadata": {},
     "output_type": "execute_result"
    }
   ],
   "source": [
    "200 not  in a"
   ]
  },
  {
   "cell_type": "code",
   "execution_count": 218,
   "id": "06ccd51e-dc04-41a6-942c-81dc60f6c4cd",
   "metadata": {},
   "outputs": [
    {
     "name": "stdout",
     "output_type": "stream",
     "text": [
      "10\n",
      "20\n",
      "30\n"
     ]
    }
   ],
   "source": [
    "for i in a:\n",
    "    print(i)"
   ]
  },
  {
   "cell_type": "code",
   "execution_count": 222,
   "id": "9880aa99-8f47-406a-94c8-6dd8a712ff67",
   "metadata": {},
   "outputs": [
    {
     "name": "stdout",
     "output_type": "stream",
     "text": [
      "10\n",
      "20\n",
      "30\n"
     ]
    }
   ],
   "source": [
    "for i in range(len(a)):\n",
    "    print(a[i])"
   ]
  },
  {
   "cell_type": "code",
   "execution_count": 230,
   "id": "f241859c-8068-4e86-9f07-4bc1dd9e2488",
   "metadata": {},
   "outputs": [
    {
     "data": {
      "text/plain": [
       "(10, 20, 30)"
      ]
     },
     "execution_count": 230,
     "metadata": {},
     "output_type": "execute_result"
    }
   ],
   "source": [
    "a"
   ]
  },
  {
   "cell_type": "code",
   "execution_count": 232,
   "id": "a49bb4c0-2412-4760-8381-709794123cd8",
   "metadata": {},
   "outputs": [
    {
     "data": {
      "text/plain": [
       "1"
      ]
     },
     "execution_count": 232,
     "metadata": {},
     "output_type": "execute_result"
    }
   ],
   "source": [
    "a.count(10)"
   ]
  },
  {
   "cell_type": "code",
   "execution_count": 233,
   "id": "062f153f-f22c-4d64-8a5a-adb873be145e",
   "metadata": {},
   "outputs": [
    {
     "data": {
      "text/plain": [
       "0"
      ]
     },
     "execution_count": 233,
     "metadata": {},
     "output_type": "execute_result"
    }
   ],
   "source": [
    "a.count(200)"
   ]
  },
  {
   "cell_type": "code",
   "execution_count": 234,
   "id": "c3342798-0929-4791-80aa-46ab03fe75fe",
   "metadata": {},
   "outputs": [
    {
     "data": {
      "text/plain": [
       "2"
      ]
     },
     "execution_count": 234,
     "metadata": {},
     "output_type": "execute_result"
    }
   ],
   "source": [
    "a.index(30)"
   ]
  },
  {
   "cell_type": "code",
   "execution_count": 236,
   "id": "6d7c0806-98f7-4fb2-bcd6-0a2239378a81",
   "metadata": {},
   "outputs": [
    {
     "ename": "TypeError",
     "evalue": "'tuple' object doesn't support item deletion",
     "output_type": "error",
     "traceback": [
      "\u001b[1;31m---------------------------------------------------------------------------\u001b[0m",
      "\u001b[1;31mTypeError\u001b[0m                                 Traceback (most recent call last)",
      "Cell \u001b[1;32mIn[236], line 1\u001b[0m\n\u001b[1;32m----> 1\u001b[0m \u001b[38;5;28;01mdel\u001b[39;00m \u001b[43ma\u001b[49m\u001b[43m[\u001b[49m\u001b[38;5;241;43m1\u001b[39;49m\u001b[43m]\u001b[49m\u001b[38;5;66;03m# built in functions such as append,extend,insert,del,remove,pop,sort can not be used  on tuple\u001b[39;00m\n",
      "\u001b[1;31mTypeError\u001b[0m: 'tuple' object doesn't support item deletion"
     ]
    }
   ],
   "source": [
    "del a[1]# built in functions such as append,extend,insert,del,remove,pop,sort can not be used  on tuple"
   ]
  },
  {
   "cell_type": "code",
   "execution_count": 240,
   "id": "d82d632c-4dd8-4dd8-92bc-d4741cb6c832",
   "metadata": {},
   "outputs": [],
   "source": [
    "a=(10,20,30)\n",
    "del a#we can delete a complete tuple usig del operation"
   ]
  },
  {
   "cell_type": "code",
   "execution_count": 241,
   "id": "a094cbb1-cc36-4911-97df-5c40599066af",
   "metadata": {},
   "outputs": [
    {
     "ename": "NameError",
     "evalue": "name 'a' is not defined",
     "output_type": "error",
     "traceback": [
      "\u001b[1;31m---------------------------------------------------------------------------\u001b[0m",
      "\u001b[1;31mNameError\u001b[0m                                 Traceback (most recent call last)",
      "Cell \u001b[1;32mIn[241], line 1\u001b[0m\n\u001b[1;32m----> 1\u001b[0m \u001b[43ma\u001b[49m\n",
      "\u001b[1;31mNameError\u001b[0m: name 'a' is not defined"
     ]
    }
   ],
   "source": [
    "a"
   ]
  },
  {
   "cell_type": "code",
   "execution_count": 242,
   "id": "6a0e46f0-c6e9-4e0e-9468-9d704efd3cc4",
   "metadata": {},
   "outputs": [],
   "source": [
    "#----------------------------------->nested tuple\n",
    "a=((1,2,3),(10,20,30),'kits_guntur')"
   ]
  },
  {
   "cell_type": "code",
   "execution_count": 243,
   "id": "5fd26da8-edf2-4591-ad61-57a3f159ef2b",
   "metadata": {},
   "outputs": [
    {
     "data": {
      "text/plain": [
       "((1, 2, 3), (10, 20, 30), 'kits_guntur')"
      ]
     },
     "execution_count": 243,
     "metadata": {},
     "output_type": "execute_result"
    }
   ],
   "source": [
    "a"
   ]
  },
  {
   "cell_type": "code",
   "execution_count": 244,
   "id": "78ef16fa-f79a-4732-8acf-4cff6f3b53d7",
   "metadata": {},
   "outputs": [
    {
     "data": {
      "text/plain": [
       "'kits_guntur'"
      ]
     },
     "execution_count": 244,
     "metadata": {},
     "output_type": "execute_result"
    }
   ],
   "source": [
    "a[2]"
   ]
  },
  {
   "cell_type": "code",
   "execution_count": 246,
   "id": "4177ea4b-c1fb-441c-a2d7-09acd40a13fc",
   "metadata": {},
   "outputs": [
    {
     "data": {
      "text/plain": [
       "3"
      ]
     },
     "execution_count": 246,
     "metadata": {},
     "output_type": "execute_result"
    }
   ],
   "source": [
    "a[0][2]"
   ]
  },
  {
   "cell_type": "code",
   "execution_count": 249,
   "id": "ad62bc1a-bd23-4d35-a89c-169486b5fb53",
   "metadata": {},
   "outputs": [],
   "source": [
    "#tuple can not be created using single element in it .it defaulty crated as integer.\n",
    "a=(1)"
   ]
  },
  {
   "cell_type": "code",
   "execution_count": 250,
   "id": "0177921f-3289-4fed-94e3-99e15d8644cf",
   "metadata": {},
   "outputs": [
    {
     "data": {
      "text/plain": [
       "1"
      ]
     },
     "execution_count": 250,
     "metadata": {},
     "output_type": "execute_result"
    }
   ],
   "source": [
    "a"
   ]
  },
  {
   "cell_type": "code",
   "execution_count": 251,
   "id": "5bd1dc65-917f-45a0-a3be-f24c2d7717ca",
   "metadata": {},
   "outputs": [
    {
     "data": {
      "text/plain": [
       "int"
      ]
     },
     "execution_count": 251,
     "metadata": {},
     "output_type": "execute_result"
    }
   ],
   "source": [
    "type(a)"
   ]
  },
  {
   "cell_type": "code",
   "execution_count": 252,
   "id": "b75c5f47-9df3-4b3a-b1b5-58323bb337d2",
   "metadata": {},
   "outputs": [
    {
     "data": {
      "text/plain": [
       "(1,)"
      ]
     },
     "execution_count": 252,
     "metadata": {},
     "output_type": "execute_result"
    }
   ],
   "source": [
    "#to create single element tuple is shown below\n",
    "a=(1,)\n",
    "a"
   ]
  },
  {
   "cell_type": "code",
   "execution_count": 253,
   "id": "dc77df20-f83e-4498-9472-e32a301c2a46",
   "metadata": {},
   "outputs": [
    {
     "data": {
      "text/plain": [
       "tuple"
      ]
     },
     "execution_count": 253,
     "metadata": {},
     "output_type": "execute_result"
    }
   ],
   "source": [
    "type(a)"
   ]
  },
  {
   "cell_type": "code",
   "execution_count": 254,
   "id": "218a23d3-80c6-4cc4-9418-1f9dacf6ef8f",
   "metadata": {},
   "outputs": [],
   "source": [
    "#-------------------------------------------------------------------------------------->strings\n",
    "str='i am learning python\\'s language'"
   ]
  },
  {
   "cell_type": "code",
   "execution_count": 255,
   "id": "390e2bf6-7684-4d6f-8d49-f985fb73398b",
   "metadata": {},
   "outputs": [
    {
     "data": {
      "text/plain": [
       "\"i am learning python's language\""
      ]
     },
     "execution_count": 255,
     "metadata": {},
     "output_type": "execute_result"
    }
   ],
   "source": [
    "str"
   ]
  },
  {
   "cell_type": "code",
   "execution_count": 257,
   "id": "c4c6d5a1-1754-4225-bfe1-31203a032dcc",
   "metadata": {},
   "outputs": [
    {
     "data": {
      "text/plain": [
       "\"i am learning python's language\""
      ]
     },
     "execution_count": 257,
     "metadata": {},
     "output_type": "execute_result"
    }
   ],
   "source": [
    "str=\"i am learning python\\'s language\"\n",
    "str"
   ]
  },
  {
   "cell_type": "code",
   "execution_count": 261,
   "id": "b37d2c79-f3de-445b-8806-e346e6be0cf4",
   "metadata": {},
   "outputs": [
    {
     "data": {
      "text/plain": [
       "'  i am a kits college student\\n         holding reg.no:21jr1a4492.'"
      ]
     },
     "execution_count": 261,
     "metadata": {},
     "output_type": "execute_result"
    }
   ],
   "source": [
    "#multiple lines can be written using 3 quotes\n",
    "str=\"\"\"  i am a kits college student.\n",
    "         holding reg.no:21jr1a4492.\"\"\"\n",
    "str"
   ]
  },
  {
   "cell_type": "code",
   "execution_count": 265,
   "id": "422c01ac-0f39-4928-b255-c130f03ef730",
   "metadata": {},
   "outputs": [
    {
     "name": "stdout",
     "output_type": "stream",
     "text": [
      " 10 is integer & 10.342300 is float\n"
     ]
    }
   ],
   "source": [
    "print(\" %d is integer & %f is float\"%(10,10.3423))"
   ]
  },
  {
   "cell_type": "code",
   "execution_count": 269,
   "id": "0afec5e1-bbb2-46da-be5a-cb63743ff378",
   "metadata": {},
   "outputs": [
    {
     "name": "stdout",
     "output_type": "stream",
     "text": [
      "10 is int % 20.345 is float\n"
     ]
    }
   ],
   "source": [
    "print(\"{0} is int % {1} is float\".format(10,20.345))"
   ]
  },
  {
   "cell_type": "code",
   "execution_count": 273,
   "id": "4e3762c9-e529-4c53-ac09-3f6274860085",
   "metadata": {},
   "outputs": [],
   "source": [
    "str=\"school\""
   ]
  },
  {
   "cell_type": "code",
   "execution_count": 274,
   "id": "31b0ad6a-b559-4abc-8138-9e871d28a4ca",
   "metadata": {},
   "outputs": [
    {
     "data": {
      "text/plain": [
       "'h'"
      ]
     },
     "execution_count": 274,
     "metadata": {},
     "output_type": "execute_result"
    }
   ],
   "source": [
    "str[2]"
   ]
  },
  {
   "cell_type": "code",
   "execution_count": 275,
   "id": "96af16da-507a-463f-b565-e81b559f4070",
   "metadata": {},
   "outputs": [
    {
     "ename": "TypeError",
     "evalue": "'str' object does not support item assignment",
     "output_type": "error",
     "traceback": [
      "\u001b[1;31m---------------------------------------------------------------------------\u001b[0m",
      "\u001b[1;31mTypeError\u001b[0m                                 Traceback (most recent call last)",
      "Cell \u001b[1;32mIn[275], line 1\u001b[0m\n\u001b[1;32m----> 1\u001b[0m \u001b[38;5;28;43mstr\u001b[39;49m\u001b[43m[\u001b[49m\u001b[38;5;241;43m1\u001b[39;49m\u001b[43m]\u001b[49m\u001b[38;5;241m=\u001b[39m\u001b[38;5;124m'\u001b[39m\u001b[38;5;124mf\u001b[39m\u001b[38;5;124m'\u001b[39m\n",
      "\u001b[1;31mTypeError\u001b[0m: 'str' object does not support item assignment"
     ]
    }
   ],
   "source": [
    "str[1]='f'#strings are immutable just like tuple"
   ]
  },
  {
   "cell_type": "code",
   "execution_count": 276,
   "id": "31cc9d47-3c16-415e-83b7-703685eac253",
   "metadata": {},
   "outputs": [
    {
     "data": {
      "text/plain": [
       "str"
      ]
     },
     "execution_count": 276,
     "metadata": {},
     "output_type": "execute_result"
    }
   ],
   "source": [
    "type(str)"
   ]
  },
  {
   "cell_type": "code",
   "execution_count": 277,
   "id": "e99e6419-ad8a-49cc-9c1b-7b5893e77311",
   "metadata": {},
   "outputs": [
    {
     "data": {
      "text/plain": [
       "True"
      ]
     },
     "execution_count": 277,
     "metadata": {},
     "output_type": "execute_result"
    }
   ],
   "source": [
    "str[2]=='h'"
   ]
  },
  {
   "cell_type": "code",
   "execution_count": 279,
   "id": "745dfcd3-aba4-4c51-b0d4-dfa3062b09f6",
   "metadata": {},
   "outputs": [
    {
     "data": {
      "text/plain": [
       "'SCHOOL'"
      ]
     },
     "execution_count": 279,
     "metadata": {},
     "output_type": "execute_result"
    }
   ],
   "source": [
    "str.upper()"
   ]
  },
  {
   "cell_type": "code",
   "execution_count": 280,
   "id": "da5b7eb5-fd41-4479-8444-eec3c22a9774",
   "metadata": {},
   "outputs": [
    {
     "data": {
      "text/plain": [
       "'school'"
      ]
     },
     "execution_count": 280,
     "metadata": {},
     "output_type": "execute_result"
    }
   ],
   "source": [
    "str.lower()"
   ]
  },
  {
   "cell_type": "code",
   "execution_count": 281,
   "id": "7ada5779-a612-4561-84f2-02a4e2ab15d4",
   "metadata": {},
   "outputs": [
    {
     "data": {
      "text/plain": [
       "5"
      ]
     },
     "execution_count": 281,
     "metadata": {},
     "output_type": "execute_result"
    }
   ],
   "source": [
    "str.index('l')"
   ]
  },
  {
   "cell_type": "code",
   "execution_count": 286,
   "id": "be8bbea1-2bec-4353-82d3-ace385dca856",
   "metadata": {},
   "outputs": [
    {
     "data": {
      "text/plain": [
       "'    school'"
      ]
     },
     "execution_count": 286,
     "metadata": {},
     "output_type": "execute_result"
    }
   ],
   "source": [
    "str.rjust(10)"
   ]
  },
  {
   "cell_type": "code",
   "execution_count": 287,
   "id": "48a81f9f-f173-4045-9640-dea9661b2b98",
   "metadata": {},
   "outputs": [
    {
     "data": {
      "text/plain": [
       "'school    '"
      ]
     },
     "execution_count": 287,
     "metadata": {},
     "output_type": "execute_result"
    }
   ],
   "source": [
    "str.ljust(10)"
   ]
  },
  {
   "cell_type": "code",
   "execution_count": 288,
   "id": "15745775-d841-4016-a960-657a4a29de9b",
   "metadata": {},
   "outputs": [
    {
     "data": {
      "text/plain": [
       "'School'"
      ]
     },
     "execution_count": 288,
     "metadata": {},
     "output_type": "execute_result"
    }
   ],
   "source": [
    "str.capitalize()#truns 1st character into capital"
   ]
  },
  {
   "cell_type": "code",
   "execution_count": 289,
   "id": "92006331-2c90-4e62-a25a-e58f31c40757",
   "metadata": {},
   "outputs": [
    {
     "data": {
      "text/plain": [
       "'School'"
      ]
     },
     "execution_count": 289,
     "metadata": {},
     "output_type": "execute_result"
    }
   ],
   "source": [
    "str.title()"
   ]
  },
  {
   "cell_type": "code",
   "execution_count": 290,
   "id": "43ede065-2103-47b4-83bc-2b2c0d534749",
   "metadata": {},
   "outputs": [
    {
     "data": {
      "text/plain": [
       "2"
      ]
     },
     "execution_count": 290,
     "metadata": {},
     "output_type": "execute_result"
    }
   ],
   "source": [
    "str.count(\"o\",1,5)#counting the no.of occurences of 'o' between the given range"
   ]
  },
  {
   "cell_type": "code",
   "execution_count": 293,
   "id": "343a1bea-e174-420b-9afb-f8d70dad1ab9",
   "metadata": {},
   "outputs": [
    {
     "data": {
      "text/plain": [
       "0"
      ]
     },
     "execution_count": 293,
     "metadata": {},
     "output_type": "execute_result"
    }
   ],
   "source": [
    "str.count(\"S\")#case sensitive"
   ]
  },
  {
   "cell_type": "code",
   "execution_count": 297,
   "id": "af80a97a-f2f6-452e-866c-9d93da75a238",
   "metadata": {},
   "outputs": [],
   "source": [
    "str=\"scHoOl\""
   ]
  },
  {
   "cell_type": "code",
   "execution_count": 298,
   "id": "bff83cc4-75d0-4c32-bbc0-ae9826e4d647",
   "metadata": {},
   "outputs": [
    {
     "data": {
      "text/plain": [
       "'SChOoL'"
      ]
     },
     "execution_count": 298,
     "metadata": {},
     "output_type": "execute_result"
    }
   ],
   "source": [
    "str.swapcase()#swaps lower case to upper &vice versa"
   ]
  },
  {
   "cell_type": "code",
   "execution_count": 300,
   "id": "f10ce25c-8ad5-4f22-803e-5e5b07cba0c8",
   "metadata": {},
   "outputs": [
    {
     "data": {
      "text/plain": [
       "'s'"
      ]
     },
     "execution_count": 300,
     "metadata": {},
     "output_type": "execute_result"
    }
   ],
   "source": [
    "max(str)#gives output based on askee value"
   ]
  },
  {
   "cell_type": "code",
   "execution_count": 301,
   "id": "5d480cca-f72e-4db1-88d5-3407867b2652",
   "metadata": {},
   "outputs": [
    {
     "data": {
      "text/plain": [
       "'H'"
      ]
     },
     "execution_count": 301,
     "metadata": {},
     "output_type": "execute_result"
    }
   ],
   "source": [
    "min(str)"
   ]
  },
  {
   "cell_type": "code",
   "execution_count": 302,
   "id": "7a6acfb9-0a46-4e4b-9ccf-94c8f3806ff3",
   "metadata": {},
   "outputs": [
    {
     "data": {
      "text/plain": [
       "\"i am learning java's language\""
      ]
     },
     "execution_count": 302,
     "metadata": {},
     "output_type": "execute_result"
    }
   ],
   "source": [
    "#********replace funtion\n",
    "str=\"i am learning python\\'s language\"\n",
    "str.replace(\"python\",\"java\")"
   ]
  },
  {
   "cell_type": "code",
   "execution_count": 304,
   "id": "8f6cae58-a52e-42be-a905-ce74e3e452e4",
   "metadata": {},
   "outputs": [
    {
     "data": {
      "text/plain": [
       "'i am learning python- language'"
      ]
     },
     "execution_count": 304,
     "metadata": {},
     "output_type": "execute_result"
    }
   ],
   "source": [
    "str=\"i am learning python\\'s language\"\n",
    "str.replace(\"'s\",\"-\")"
   ]
  },
  {
   "cell_type": "code",
   "execution_count": 305,
   "id": "35493d43-7032-4a96-b561-f833d0805fd6",
   "metadata": {},
   "outputs": [
    {
     "data": {
      "text/plain": [
       "'kitss sschool'"
      ]
     },
     "execution_count": 305,
     "metadata": {},
     "output_type": "execute_result"
    }
   ],
   "source": [
    "str=\"kits school\"\n",
    "str.replace(\"s\",\"ss\",2)#specifying how many times char need to be replcaed "
   ]
  },
  {
   "cell_type": "code",
   "execution_count": 309,
   "id": "5d3e1401-ec31-4bae-b08f-69be21f133b8",
   "metadata": {},
   "outputs": [
    {
     "data": {
      "text/plain": [
       "['kits', 'school']"
      ]
     },
     "execution_count": 309,
     "metadata": {},
     "output_type": "execute_result"
    }
   ],
   "source": [
    "str.split()"
   ]
  },
  {
   "cell_type": "code",
   "execution_count": 311,
   "id": "3243fc0f-2fdc-47d8-8048-d8bc366ec7cb",
   "metadata": {},
   "outputs": [
    {
     "data": {
      "text/plain": [
       "['kits', 'engineering college']"
      ]
     },
     "execution_count": 311,
     "metadata": {},
     "output_type": "execute_result"
    }
   ],
   "source": [
    "str=\"kits engineering college\"\n",
    "str.split(\" \",1)#specifying the spilts"
   ]
  },
  {
   "cell_type": "code",
   "execution_count": 312,
   "id": "4614ca07-ac1c-44a7-99d9-f378c62ee786",
   "metadata": {},
   "outputs": [
    {
     "data": {
      "text/plain": [
       "set"
      ]
     },
     "execution_count": 312,
     "metadata": {},
     "output_type": "execute_result"
    }
   ],
   "source": [
    "#---------------------------------------------------------------------->sets\n",
    "#sets are declared as a=set()\n",
    "#accepts only unique elemts ,does not accept duplicates\n",
    "#sets are inorder\n",
    "#not support slicing\n",
    "#no indexing since elements are not printed as given order\n",
    "#had few methods"
   ]
  },
  {
   "cell_type": "code",
   "execution_count": 313,
   "id": "209061fa-b187-4d8f-8ba1-e36a95d40a7c",
   "metadata": {},
   "outputs": [
    {
     "data": {
      "text/plain": [
       "set"
      ]
     },
     "execution_count": 313,
     "metadata": {},
     "output_type": "execute_result"
    }
   ],
   "source": [
    "a=set()\n",
    "type(a)"
   ]
  },
  {
   "cell_type": "code",
   "execution_count": 321,
   "id": "4529c327-a758-4def-96c8-faa799af5c44",
   "metadata": {},
   "outputs": [],
   "source": [
    "a={10,20,30,30,'kits'}"
   ]
  },
  {
   "cell_type": "code",
   "execution_count": 318,
   "id": "80567036-ef00-42b3-9c56-1ae0a2ff91a6",
   "metadata": {},
   "outputs": [
    {
     "data": {
      "text/plain": [
       "{10, 20, 30, 'kits'}"
      ]
     },
     "execution_count": 318,
     "metadata": {},
     "output_type": "execute_result"
    }
   ],
   "source": [
    "a"
   ]
  },
  {
   "cell_type": "code",
   "execution_count": 322,
   "id": "ee4974c5-054a-4d1a-aacd-12e2e059b665",
   "metadata": {},
   "outputs": [
    {
     "ename": "TypeError",
     "evalue": "'set' object is not subscriptable",
     "output_type": "error",
     "traceback": [
      "\u001b[1;31m---------------------------------------------------------------------------\u001b[0m",
      "\u001b[1;31mTypeError\u001b[0m                                 Traceback (most recent call last)",
      "Cell \u001b[1;32mIn[322], line 1\u001b[0m\n\u001b[1;32m----> 1\u001b[0m \u001b[43ma\u001b[49m\u001b[43m[\u001b[49m\u001b[38;5;241;43m1\u001b[39;49m\u001b[43m]\u001b[49m\n",
      "\u001b[1;31mTypeError\u001b[0m: 'set' object is not subscriptable"
     ]
    }
   ],
   "source": [
    "a[1]#does not support indexing "
   ]
  },
  {
   "cell_type": "code",
   "execution_count": 323,
   "id": "bdf30010-776f-4b7f-9c14-ec11256228aa",
   "metadata": {},
   "outputs": [],
   "source": [
    "#----------------------------------------------------------------------------------------------------->dictionary\n",
    "#coma seperated key-value pairs\n",
    "#access elemnts using keys\n"
   ]
  },
  {
   "cell_type": "code",
   "execution_count": 324,
   "id": "2b2ba6b2-918b-46de-b638-d056c497dcdf",
   "metadata": {},
   "outputs": [],
   "source": [
    "#creating adictionary using \"dict\" function\n",
    "a=dict()"
   ]
  },
  {
   "cell_type": "code",
   "execution_count": 326,
   "id": "86f9b96b-7cd2-4895-b000-7edd67f30cb0",
   "metadata": {},
   "outputs": [
    {
     "data": {
      "text/plain": [
       "dict"
      ]
     },
     "execution_count": 326,
     "metadata": {},
     "output_type": "execute_result"
    }
   ],
   "source": [
    "type(a)"
   ]
  },
  {
   "cell_type": "code",
   "execution_count": 345,
   "id": "daef1626-9b62-41ac-b36f-45410063118f",
   "metadata": {},
   "outputs": [],
   "source": [
    "a={'a':1,'b':2,'c':3}"
   ]
  },
  {
   "cell_type": "code",
   "execution_count": 346,
   "id": "c8da9ae8-d75c-4f83-8e6f-6f22612da195",
   "metadata": {},
   "outputs": [
    {
     "data": {
      "text/plain": [
       "{'a': 1, 'b': 2, 'c': 3}"
      ]
     },
     "execution_count": 346,
     "metadata": {},
     "output_type": "execute_result"
    }
   ],
   "source": [
    "a"
   ]
  },
  {
   "cell_type": "code",
   "execution_count": 347,
   "id": "044618da-085c-4332-ad58-998b04556a36",
   "metadata": {},
   "outputs": [
    {
     "data": {
      "text/plain": [
       "1"
      ]
     },
     "execution_count": 347,
     "metadata": {},
     "output_type": "execute_result"
    }
   ],
   "source": [
    "a['a']#accessing using keys"
   ]
  },
  {
   "cell_type": "code",
   "execution_count": 348,
   "id": "f860cd53-819d-44e1-b677-bf102cd89375",
   "metadata": {},
   "outputs": [],
   "source": [
    "a['a']=4"
   ]
  },
  {
   "cell_type": "code",
   "execution_count": 349,
   "id": "d903c3ac-af96-48da-9999-393508722f90",
   "metadata": {},
   "outputs": [
    {
     "data": {
      "text/plain": [
       "{'a': 4, 'b': 2, 'c': 3}"
      ]
     },
     "execution_count": 349,
     "metadata": {},
     "output_type": "execute_result"
    }
   ],
   "source": [
    "a"
   ]
  },
  {
   "cell_type": "code",
   "execution_count": 357,
   "id": "12b769b2-8e05-4e74-8a66-28d2e222cb45",
   "metadata": {},
   "outputs": [],
   "source": [
    "a['d']=5"
   ]
  },
  {
   "cell_type": "code",
   "execution_count": 359,
   "id": "61e495de-03fb-45f5-8802-14a64abea360",
   "metadata": {},
   "outputs": [],
   "source": [
    "a['e']=6"
   ]
  },
  {
   "cell_type": "code",
   "execution_count": 360,
   "id": "bbe12c4b-e3b6-4e23-a250-1c21072b32fe",
   "metadata": {},
   "outputs": [
    {
     "data": {
      "text/plain": [
       "{'a': 4, 'b': 2, 'c': 3, 'd': 5, 'e': 6}"
      ]
     },
     "execution_count": 360,
     "metadata": {},
     "output_type": "execute_result"
    }
   ],
   "source": [
    "a"
   ]
  },
  {
   "cell_type": "code",
   "execution_count": 362,
   "id": "8d7ceb18-71d0-4f18-b737-6281aa1900c3",
   "metadata": {},
   "outputs": [],
   "source": [
    "del a['a']"
   ]
  },
  {
   "cell_type": "code",
   "execution_count": 369,
   "id": "109e6f26-f843-40c2-9046-e6ee45a2dfc3",
   "metadata": {},
   "outputs": [],
   "source": [
    "a['d']=4"
   ]
  },
  {
   "cell_type": "code",
   "execution_count": 370,
   "id": "aa3a52c3-9443-4287-8684-d6d7fe68f144",
   "metadata": {},
   "outputs": [
    {
     "data": {
      "text/plain": [
       "{'b': 2, 'c': 3, 'd': 4, 'e': 6}"
      ]
     },
     "execution_count": 370,
     "metadata": {},
     "output_type": "execute_result"
    }
   ],
   "source": [
    "a"
   ]
  },
  {
   "cell_type": "code",
   "execution_count": 393,
   "id": "38e23031-3559-4bf6-ae39-39a2cd6d4d61",
   "metadata": {},
   "outputs": [],
   "source": [
    "#----------------------------------------------------->dictionary comprehension\n",
    "a={ i:i**2 for i in range(1,10) if i%2!=0}"
   ]
  },
  {
   "cell_type": "code",
   "execution_count": 394,
   "id": "69033e19-f878-4f58-a2c6-abfde88e0e27",
   "metadata": {},
   "outputs": [
    {
     "data": {
      "text/plain": [
       "{1: 1, 3: 9, 5: 25, 7: 49, 9: 81}"
      ]
     },
     "execution_count": 394,
     "metadata": {},
     "output_type": "execute_result"
    }
   ],
   "source": [
    "a\n",
    "   "
   ]
  },
  {
   "cell_type": "code",
   "execution_count": 395,
   "id": "80ccdbe5-69bc-4ff0-b35c-09698b9ae960",
   "metadata": {},
   "outputs": [],
   "source": [
    "#--------------------------------------------------------------->dictionary methods\n",
    "#copy,keys,values,update\n"
   ]
  },
  {
   "cell_type": "code",
   "execution_count": 396,
   "id": "cfa8e912-ca7b-4268-b952-cec06abb3dc2",
   "metadata": {},
   "outputs": [],
   "source": [
    "a={'a':1,'b':2,'c':3}"
   ]
  },
  {
   "cell_type": "code",
   "execution_count": 399,
   "id": "a07e7edd-13b5-4857-b75f-40f1e859c0c9",
   "metadata": {},
   "outputs": [
    {
     "data": {
      "text/plain": [
       "{'a': 1, 'b': 2, 'c': 3}"
      ]
     },
     "execution_count": 399,
     "metadata": {},
     "output_type": "execute_result"
    }
   ],
   "source": [
    "b=a.copy()\n",
    "b"
   ]
  },
  {
   "cell_type": "code",
   "execution_count": 401,
   "id": "b00b79e8-9dd7-4f8c-aa18-aaa431b7dd7d",
   "metadata": {},
   "outputs": [
    {
     "data": {
      "text/plain": [
       "True"
      ]
     },
     "execution_count": 401,
     "metadata": {},
     "output_type": "execute_result"
    }
   ],
   "source": [
    "'a' in b"
   ]
  },
  {
   "cell_type": "code",
   "execution_count": 403,
   "id": "66d28a7e-ec2c-4e70-a0d9-bfc158252385",
   "metadata": {},
   "outputs": [
    {
     "data": {
      "text/plain": [
       "{'d': 4}"
      ]
     },
     "execution_count": 403,
     "metadata": {},
     "output_type": "execute_result"
    }
   ],
   "source": [
    "c={'d':4}\n",
    "c"
   ]
  },
  {
   "cell_type": "code",
   "execution_count": 413,
   "id": "a29386df-40c9-4289-8ac9-564ada2ee585",
   "metadata": {},
   "outputs": [
    {
     "data": {
      "text/plain": [
       "{'d': 4}"
      ]
     },
     "execution_count": 413,
     "metadata": {},
     "output_type": "execute_result"
    }
   ],
   "source": [
    "c"
   ]
  },
  {
   "cell_type": "code",
   "execution_count": 416,
   "id": "b78e1dd5-9d64-4180-ac18-def8725313f4",
   "metadata": {},
   "outputs": [
    {
     "data": {
      "text/plain": [
       "dict_keys(['a', 'b', 'c'])"
      ]
     },
     "execution_count": 416,
     "metadata": {},
     "output_type": "execute_result"
    }
   ],
   "source": [
    "b.keys()"
   ]
  },
  {
   "cell_type": "code",
   "execution_count": 417,
   "id": "0b97a241-7fb7-4714-8510-bcdc7627b3d6",
   "metadata": {},
   "outputs": [
    {
     "data": {
      "text/plain": [
       "dict_values([1, 2, 3])"
      ]
     },
     "execution_count": 417,
     "metadata": {},
     "output_type": "execute_result"
    }
   ],
   "source": [
    "b.values()"
   ]
  },
  {
   "cell_type": "code",
   "execution_count": 418,
   "id": "da4d2ea9-c2cc-471b-92af-11e2554843d4",
   "metadata": {},
   "outputs": [
    {
     "data": {
      "text/plain": [
       "dict_items([('a', 1), ('b', 2), ('c', 3)])"
      ]
     },
     "execution_count": 418,
     "metadata": {},
     "output_type": "execute_result"
    }
   ],
   "source": [
    "b.items()#returns key-value pairs in form of tuple"
   ]
  },
  {
   "cell_type": "code",
   "execution_count": 426,
   "id": "741c7511-ddb7-452e-9cd8-221dd6bcd04d",
   "metadata": {},
   "outputs": [],
   "source": [
    "b={'a': 1, 'b': 2, 'c': 3}\n"
   ]
  },
  {
   "cell_type": "code",
   "execution_count": 427,
   "id": "fbca952e-1cef-4f59-9454-d748971cdc16",
   "metadata": {},
   "outputs": [
    {
     "data": {
      "text/plain": [
       "{'a': 1, 'b': 2, 'c': 3}"
      ]
     },
     "execution_count": 427,
     "metadata": {},
     "output_type": "execute_result"
    }
   ],
   "source": [
    "b"
   ]
  },
  {
   "cell_type": "code",
   "execution_count": 429,
   "id": "bc394eb9-2690-489c-9436-147464192aa1",
   "metadata": {},
   "outputs": [
    {
     "data": {
      "text/plain": [
       "{'a': 1, 'b': 2, 'c': 3}"
      ]
     },
     "execution_count": 429,
     "metadata": {},
     "output_type": "execute_result"
    }
   ],
   "source": [
    "d=b.copy()#copys all ements in b to d\n",
    "d"
   ]
  },
  {
   "cell_type": "code",
   "execution_count": 433,
   "id": "9523cf0b-0fcc-4b3d-a07e-022ceee2b439",
   "metadata": {},
   "outputs": [],
   "source": [
    "b={'a': 1, 'b': 2, 'c': 3}"
   ]
  },
  {
   "cell_type": "code",
   "execution_count": 434,
   "id": "ad62dac4-5d83-48d5-8d53-37b4c552d0c9",
   "metadata": {},
   "outputs": [
    {
     "data": {
      "text/plain": [
       "{'a': 1, 'b': 2, 'c': 3}"
      ]
     },
     "execution_count": 434,
     "metadata": {},
     "output_type": "execute_result"
    }
   ],
   "source": [
    "b"
   ]
  },
  {
   "cell_type": "code",
   "execution_count": 436,
   "id": "1f223df0-5dc1-4401-bafb-3771af0e2913",
   "metadata": {},
   "outputs": [],
   "source": [
    "#just deleting the dictionary key-values .here , after del only empty dict is left\n",
    "b.clear()"
   ]
  },
  {
   "cell_type": "code",
   "execution_count": 437,
   "id": "e9fe59e7-cddc-4f00-b79a-834098a420d1",
   "metadata": {},
   "outputs": [
    {
     "data": {
      "text/plain": [
       "{}"
      ]
     },
     "execution_count": 437,
     "metadata": {},
     "output_type": "execute_result"
    }
   ],
   "source": [
    "b"
   ]
  },
  {
   "cell_type": "code",
   "execution_count": 438,
   "id": "743b65ae-fb9a-440f-a4d6-4b857fd4e8f3",
   "metadata": {},
   "outputs": [],
   "source": [
    "#deleting entire dict along with structure\n",
    "b={'a': 1, 'b': 2, 'c': 3}\n",
    "del b"
   ]
  },
  {
   "cell_type": "code",
   "execution_count": 439,
   "id": "1a9f2a69-6091-498c-92d3-a86ae8c09293",
   "metadata": {},
   "outputs": [
    {
     "data": {
      "text/plain": [
       "{'a': 1, 'b': 2, 'c': 3, 'd': 4}"
      ]
     },
     "execution_count": 439,
     "metadata": {},
     "output_type": "execute_result"
    }
   ],
   "source": [
    "#update operator\n",
    "b={'a': 1, 'b': 2, 'c': 3}\n",
    "c={'d':4}\n",
    "b.update(c)#updating dict_b with dict_c\n",
    "b"
   ]
  },
  {
   "cell_type": "code",
   "execution_count": 440,
   "id": "503eb984-9406-43bf-a228-378b3f7d093f",
   "metadata": {},
   "outputs": [],
   "source": [
    "#----------------------------------------------------------------------->nested dictionary\n"
   ]
  },
  {
   "cell_type": "code",
   "execution_count": 441,
   "id": "bdfd7919-89e1-47ae-9340-39aeeaf504eb",
   "metadata": {},
   "outputs": [
    {
     "data": {
      "text/plain": [
       "{'capitals': {'tamil nadu': 'chennai', 'maharastra': 'mumbai'}, 'a': 1, 'b': 2}"
      ]
     },
     "execution_count": 441,
     "metadata": {},
     "output_type": "execute_result"
    }
   ],
   "source": [
    "dict={ 'capitals':{'tamil nadu':'chennai','maharastra':'mumbai'},'a':1,'b':2}\n",
    "dict"
   ]
  },
  {
   "cell_type": "code",
   "execution_count": 442,
   "id": "ab7fdcac-dc1c-4ccf-91a8-be177e45ed8d",
   "metadata": {},
   "outputs": [
    {
     "data": {
      "text/plain": [
       "dict_items([('capitals', {'tamil nadu': 'chennai', 'maharastra': 'mumbai'}), ('a', 1), ('b', 2)])"
      ]
     },
     "execution_count": 442,
     "metadata": {},
     "output_type": "execute_result"
    }
   ],
   "source": [
    "dict.items()"
   ]
  },
  {
   "cell_type": "code",
   "execution_count": 443,
   "id": "49cb1ee8-8ccb-4d35-b1aa-f8eee19ab661",
   "metadata": {},
   "outputs": [
    {
     "data": {
      "text/plain": [
       "dict_keys(['capitals', 'a', 'b'])"
      ]
     },
     "execution_count": 443,
     "metadata": {},
     "output_type": "execute_result"
    }
   ],
   "source": [
    "dict.keys()"
   ]
  },
  {
   "cell_type": "code",
   "execution_count": 445,
   "id": "aa81bd9f-8d5c-4a2f-968b-2ce03124e8cd",
   "metadata": {},
   "outputs": [
    {
     "data": {
      "text/plain": [
       "dict_values([{'tamil nadu': 'chennai', 'maharastra': 'mumbai'}, 1, 2])"
      ]
     },
     "execution_count": 445,
     "metadata": {},
     "output_type": "execute_result"
    }
   ],
   "source": [
    "dict.values()"
   ]
  },
  {
   "cell_type": "code",
   "execution_count": 446,
   "id": "2a5f1589-6b1b-49e2-bb9f-b893aa3e606a",
   "metadata": {},
   "outputs": [
    {
     "data": {
      "text/plain": [
       "'chennai'"
      ]
     },
     "execution_count": 446,
     "metadata": {},
     "output_type": "execute_result"
    }
   ],
   "source": [
    "dict['capitals']['tamil nadu']#accessing in nested dict"
   ]
  },
  {
   "cell_type": "code",
   "execution_count": 449,
   "id": "91f7aadd-19c9-41be-835b-a69a4597a765",
   "metadata": {},
   "outputs": [
    {
     "data": {
      "text/plain": [
       "{'capitals': {'tamil nadu': 'chennai', 'maharastra': 'mumbai'},\n",
       " 'a': 1,\n",
       " 'b': 2,\n",
       " 'c': 3}"
      ]
     },
     "execution_count": 449,
     "metadata": {},
     "output_type": "execute_result"
    }
   ],
   "source": [
    "a={'c':3}\n",
    "dict.update(a)\n",
    "dict"
   ]
  },
  {
   "cell_type": "code",
   "execution_count": 450,
   "id": "64bb95f4-2b0b-444c-9560-b4d313a2c278",
   "metadata": {},
   "outputs": [],
   "source": [
    "c=d.copy()"
   ]
  },
  {
   "cell_type": "code",
   "execution_count": 451,
   "id": "f21d5369-29d3-421c-801a-49d2e6b55d10",
   "metadata": {},
   "outputs": [
    {
     "data": {
      "text/plain": [
       "{'a': 1, 'b': 2, 'c': 3}"
      ]
     },
     "execution_count": 451,
     "metadata": {},
     "output_type": "execute_result"
    }
   ],
   "source": [
    "c"
   ]
  },
  {
   "cell_type": "code",
   "execution_count": 452,
   "id": "1c84fde5-d0a6-417e-9c91-624976584941",
   "metadata": {},
   "outputs": [],
   "source": [
    "dict.clear()"
   ]
  },
  {
   "cell_type": "code",
   "execution_count": 453,
   "id": "3b48ff03-98a6-4aa4-9e11-f67a393811dc",
   "metadata": {},
   "outputs": [],
   "source": [
    "del dict"
   ]
  },
  {
   "cell_type": "code",
   "execution_count": null,
   "id": "bb962393-09cf-43c1-a2c2-ddb8cc7f9c10",
   "metadata": {},
   "outputs": [],
   "source": [
    "#--------------------------------------------------------------------------------------------->funtions"
   ]
  },
  {
   "cell_type": "code",
   "execution_count": 455,
   "id": "061e7932-fa66-4257-a834-5c76397b6f25",
   "metadata": {},
   "outputs": [],
   "source": [
    "#1.built-in-functions\n",
    "#2.user defined functions using key word \"def\" \"funtion_name\" :\n",
    "#3.recurssive functions"
   ]
  },
  {
   "cell_type": "code",
   "execution_count": 456,
   "id": "24111f0a-fb13-484a-bd4a-60ac6923c15f",
   "metadata": {},
   "outputs": [],
   "source": [
    "#def is main function \n",
    "#function call is executed 1st then only main def function is executed "
   ]
  },
  {
   "cell_type": "code",
   "execution_count": 469,
   "id": "92c06c5d-54ea-484b-af28-fb0125429e2f",
   "metadata": {},
   "outputs": [
    {
     "name": "stdout",
     "output_type": "stream",
     "text": [
      "hello i am learnig python course\n"
     ]
    }
   ],
   "source": [
    "def  sample(a):#can pass  any argument for ex :str,a,x...\n",
    "    print(\"hello \"+a+ \" course\")\n",
    "sample(\"i am learnig python\")\n"
   ]
  },
  {
   "cell_type": "code",
   "execution_count": 471,
   "id": "11778885-edbd-4f32-874a-d68bcf673487",
   "metadata": {},
   "outputs": [
    {
     "name": "stdout",
     "output_type": "stream",
     "text": [
      "30\n"
     ]
    }
   ],
   "source": [
    "def add(a,b):\n",
    "    c=a+b\n",
    "    return c\n",
    "res=add(10,20)\n",
    "print(res)"
   ]
  },
  {
   "cell_type": "code",
   "execution_count": 1,
   "id": "418f2d19-21b7-49fc-bb5c-6fcfc3bcfb8e",
   "metadata": {},
   "outputs": [
    {
     "name": "stdout",
     "output_type": "stream",
     "text": [
      "10 20\n"
     ]
    }
   ],
   "source": [
    "#------------------------------------------------------------------------------>required areguments : \n",
    "#1.no.of passing arguments  in function call shold  match with the def(main) function.\n",
    "#2.order/postion should be follwed during passing of arguments\n",
    "def sample(a,b):\n",
    "    print(a,b)\n",
    "sample(10,20)"
   ]
  },
  {
   "cell_type": "code",
   "execution_count": 2,
   "id": "d16d4043-6168-4b17-9777-3e54a57e23a7",
   "metadata": {},
   "outputs": [
    {
     "name": "stdout",
     "output_type": "stream",
     "text": [
      "20 10\n"
     ]
    }
   ],
   "source": [
    "def sample(a,b):\n",
    "    print(a,b)\n",
    "sample(20,10)"
   ]
  },
  {
   "cell_type": "code",
   "execution_count": 3,
   "id": "6ec2d74d-bf24-4de4-8aa3-5ac3e45acd4e",
   "metadata": {},
   "outputs": [
    {
     "name": "stdout",
     "output_type": "stream",
     "text": [
      "10 20\n"
     ]
    }
   ],
   "source": [
    "#----------------------------------------------------------------------------------->default argument\n",
    "#1.deafult arguments must be declared at the end .\n",
    "#2.no.of arguments passing may not needed to be equal.\n",
    "#here,by defaultly,in main function b value is given,hence in  calling function  only one argument is passed\n",
    "def sample(a,b=20):#here,default argument b=20 which is declared at last\n",
    "    print(a,b)\n",
    "sample(10)"
   ]
  },
  {
   "cell_type": "code",
   "execution_count": 4,
   "id": "f0c26463-5439-4ebf-b610-8ef117e27958",
   "metadata": {},
   "outputs": [
    {
     "ename": "SyntaxError",
     "evalue": "parameter without a default follows parameter with a default (1051815043.py, line 1)",
     "output_type": "error",
     "traceback": [
      "\u001b[1;36m  Cell \u001b[1;32mIn[4], line 1\u001b[1;36m\u001b[0m\n\u001b[1;33m    def sample(b=20,a):#here,default argument b=20 which is declared at 1st but as per rules,default arg must be decalred at last.here,we gwt error\u001b[0m\n\u001b[1;37m                    ^\u001b[0m\n\u001b[1;31mSyntaxError\u001b[0m\u001b[1;31m:\u001b[0m parameter without a default follows parameter with a default\n"
     ]
    }
   ],
   "source": [
    "def sample(b=20,a):#here,default argument b=20 which is declared at 1st but as per rules,default arg must be decalred at last.here,we get error\n",
    "    print(a,b)\n",
    "sample(10)"
   ]
  },
  {
   "cell_type": "code",
   "execution_count": 5,
   "id": "876b90ff-ebd5-4edb-a677-d40cdd243412",
   "metadata": {},
   "outputs": [
    {
     "name": "stdout",
     "output_type": "stream",
     "text": [
      "10 100\n"
     ]
    }
   ],
   "source": [
    "#default values can also be over written\n",
    "def sample(a,b=20):\n",
    "    print(a,b)\n",
    "sample(10,100)"
   ]
  },
  {
   "cell_type": "code",
   "execution_count": 6,
   "id": "bde116e5-f2e4-4885-853a-cf675d2edeff",
   "metadata": {},
   "outputs": [
    {
     "name": "stdout",
     "output_type": "stream",
     "text": [
      "a 20\n",
      "10 100\n"
     ]
    }
   ],
   "source": [
    "def sample(a,b=20):\n",
    "    print(a,b)\n",
    "sample('a')\n",
    "sample(10,100)"
   ]
  },
  {
   "cell_type": "code",
   "execution_count": 13,
   "id": "a4806dcd-88d1-4bfe-b54b-be478e74b85b",
   "metadata": {},
   "outputs": [
    {
     "name": "stdout",
     "output_type": "stream",
     "text": [
      "20 10 a\n"
     ]
    }
   ],
   "source": [
    "#------------------------------------------------------------------------------->key word arguments\n",
    "#1.no need to follow the  argument order while passing the arguments\n",
    "def sample(c,b,a):\n",
    "    print(a,b,c)\n",
    "sample(b=10,c='a',a=20)# arguments passing position order not follwed ,but keys are matched with main function."
   ]
  },
  {
   "cell_type": "code",
   "execution_count": 31,
   "id": "4f3cdd4c-d9b5-4cf8-a2f1-6da51c77e191",
   "metadata": {},
   "outputs": [
    {
     "name": "stdout",
     "output_type": "stream",
     "text": [
      "(10, 20, 30, 40, 50) 30\n"
     ]
    }
   ],
   "source": [
    "#--------------------------------------------------------------------------------------->arbitary arguments\n",
    "#1. multiple arguments can be passed in function call to main funtion using single pointer variable\n",
    "#2.output will be in tuple format\n",
    "def marks(*marks):#defing '*' here means,that variable \n",
    "    print(marks,end=\" \")\n",
    "    print(marks[2],end='\\n')#index based retrieving of values\n",
    "marks(10,20,30,40,50)\n",
    "\n"
   ]
  },
  {
   "cell_type": "code",
   "execution_count": 22,
   "id": "8f4d498c-29b9-4f27-9fd6-d3b24af663df",
   "metadata": {},
   "outputs": [
    {
     "data": {
      "text/plain": [
       "function"
      ]
     },
     "execution_count": 22,
     "metadata": {},
     "output_type": "execute_result"
    }
   ],
   "source": [
    "type(marks)"
   ]
  },
  {
   "cell_type": "code",
   "execution_count": 38,
   "id": "1232d0d0-bd88-4360-80a6-931a5b0e0a45",
   "metadata": {},
   "outputs": [
    {
     "name": "stdout",
     "output_type": "stream",
     "text": [
      "(10, 20)\n"
     ]
    }
   ],
   "source": [
    "#---------------------------------------------------------------------------->topic : multiple returns\n",
    "#returns mutiple values to functon call (in 'c' language ,we can only retuen one value/arguement\n",
    "def sample(a,b):\n",
    "    return(a,b)#returning 2 vales to the main function\n",
    "res=sample(10,20)\n",
    "print(res)\n"
   ]
  },
  {
   "cell_type": "code",
   "execution_count": 43,
   "id": "8485e527-dde6-4cfd-9f5a-a6a30a34ef0c",
   "metadata": {},
   "outputs": [
    {
     "name": "stdout",
     "output_type": "stream",
     "text": [
      "ba\n"
     ]
    }
   ],
   "source": [
    "def sample(a,b):\n",
    "    c=a+b\n",
    "    return(c)#returning 2 vales to the main function\n",
    "res=sample('b','a')\n",
    "print(res)"
   ]
  },
  {
   "cell_type": "code",
   "execution_count": 46,
   "id": "ffeecf22-d9f8-460a-a9a4-416ddcc3cb72",
   "metadata": {},
   "outputs": [
    {
     "name": "stdout",
     "output_type": "stream",
     "text": [
      "10\n",
      "20\n"
     ]
    }
   ],
   "source": [
    "def sample(a,b):\n",
    "    return(a,b)#returning 2 vales to the main function\n",
    "res=sample(10,20)\n",
    "print(res[0])#printing only one element using index\n",
    "print(res[1])\n"
   ]
  },
  {
   "cell_type": "code",
   "execution_count": 47,
   "id": "dc6dba3e-4780-406f-b144-9b9a6f5e9cb6",
   "metadata": {},
   "outputs": [],
   "source": [
    "#----------------------------------------------------------------------------->global and local variables\n",
    "#global variable : can be used across any point of the programm\n",
    "#local variable : can be used  inside of declared function only\n"
   ]
  },
  {
   "cell_type": "code",
   "execution_count": 56,
   "id": "f375ba40-19aa-413d-b5e4-56f70ab2e69b",
   "metadata": {},
   "outputs": [
    {
     "name": "stdout",
     "output_type": "stream",
     "text": [
      "1000\n",
      "10\n"
     ]
    }
   ],
   "source": [
    "x=10 #here,local & global variable have same variable name .\n",
    "def sample(x=1000):\n",
    "    print(x)#1st preference is given to the local variable,so x=1000 is printed\n",
    "sample()\n",
    "print(x)#no value is there to print,hence,it prints global variable value"
   ]
  },
  {
   "cell_type": "code",
   "execution_count": 52,
   "id": "201db26d-92dd-4ef7-abb3-cce9759539b3",
   "metadata": {},
   "outputs": [
    {
     "name": "stdout",
     "output_type": "stream",
     "text": [
      "1000\n",
      "10\n",
      "1010\n"
     ]
    }
   ],
   "source": [
    "a=10 #here,local & global variable have same variable name .\n",
    "def sample(b,a=1000):\n",
    "    print(a)#1st preference is given to the local variable,so a=1000 is printed\n",
    "    return(b+a)\n",
    "sum=sample(10)\n",
    "print(a)\n",
    "print(sum)\n",
    "\n"
   ]
  },
  {
   "cell_type": "code",
   "execution_count": 51,
   "id": "714378c3-9472-4b0f-b55e-a2c2260c5916",
   "metadata": {},
   "outputs": [
    {
     "name": "stdout",
     "output_type": "stream",
     "text": [
      "100\n",
      "100\n"
     ]
    }
   ],
   "source": [
    "\n",
    "#here,local variable is not declared ,so,global variable value is printed \n",
    "a=100\n",
    "def sample():\n",
    "    print(a) \n",
    "sample()\n",
    "print(a)"
   ]
  },
  {
   "cell_type": "code",
   "execution_count": 57,
   "id": "111bb89c-b843-4582-9973-e0242fa46dbf",
   "metadata": {},
   "outputs": [
    {
     "ename": "UnboundLocalError",
     "evalue": "cannot access local variable 'a' where it is not associated with a value",
     "output_type": "error",
     "traceback": [
      "\u001b[1;31m---------------------------------------------------------------------------\u001b[0m",
      "\u001b[1;31mUnboundLocalError\u001b[0m                         Traceback (most recent call last)",
      "Cell \u001b[1;32mIn[57], line 5\u001b[0m\n\u001b[0;32m      3\u001b[0m     a\u001b[38;5;241m+\u001b[39m\u001b[38;5;241m=\u001b[39m\u001b[38;5;241m1\u001b[39m\n\u001b[0;32m      4\u001b[0m     \u001b[38;5;28mprint\u001b[39m(a) \n\u001b[1;32m----> 5\u001b[0m \u001b[43msample\u001b[49m\u001b[43m(\u001b[49m\u001b[43m)\u001b[49m\n\u001b[0;32m      6\u001b[0m \u001b[38;5;28mprint\u001b[39m(a)\n",
      "Cell \u001b[1;32mIn[57], line 3\u001b[0m, in \u001b[0;36msample\u001b[1;34m()\u001b[0m\n\u001b[0;32m      2\u001b[0m \u001b[38;5;28;01mdef\u001b[39;00m \u001b[38;5;21msample\u001b[39m():\n\u001b[1;32m----> 3\u001b[0m     \u001b[43ma\u001b[49m\u001b[38;5;241m+\u001b[39m\u001b[38;5;241m=\u001b[39m\u001b[38;5;241m1\u001b[39m\n\u001b[0;32m      4\u001b[0m     \u001b[38;5;28mprint\u001b[39m(a)\n",
      "\u001b[1;31mUnboundLocalError\u001b[0m: cannot access local variable 'a' where it is not associated with a value"
     ]
    }
   ],
   "source": [
    "a=100\n",
    "def sample():\n",
    "    a+=1#we get error because as per us 'a' is global variable,but ' a ' here is declared in funtion (which considered  as aseperate variable ) \n",
    "        #to avoid this,we need to decalre as global inside of the function(shown below)\n",
    "    print(a) \n",
    "sample()\n",
    "print(a)"
   ]
  },
  {
   "cell_type": "code",
   "execution_count": 61,
   "id": "a3be1ffc-0d4b-4643-96e4-064ff30c6319",
   "metadata": {},
   "outputs": [
    {
     "name": "stdout",
     "output_type": "stream",
     "text": [
      "100\n",
      "210\n"
     ]
    }
   ],
   "source": [
    "a=100\n",
    "def sample():\n",
    "    global a\n",
    "    print(a) \n",
    "    a+=110\n",
    "sample()\n",
    "print(a)\n",
    "#1st call  funtion is executed ,later main funtion is executed.so,here we get 1st 210 later 100"
   ]
  },
  {
   "cell_type": "code",
   "execution_count": 72,
   "id": "02ff94b3-f578-498f-86f3-17aa2dae5a32",
   "metadata": {},
   "outputs": [
    {
     "data": {
      "text/plain": [
       "243"
      ]
     },
     "execution_count": 72,
     "metadata": {},
     "output_type": "execute_result"
    }
   ],
   "source": [
    "# ------------------------------------------------------------------->topic : lambda funtion\n",
    "#lambda funtion is assigned to a varible.\n",
    "#values are passed via that varibale\n",
    "import math\n",
    "sum=lambda a,b:a**b\n",
    "sum(3,5)"
   ]
  },
  {
   "cell_type": "code",
   "execution_count": 73,
   "id": "9fef7fa1-f0d5-41b6-812b-f5f12e534839",
   "metadata": {},
   "outputs": [
    {
     "ename": "SyntaxError",
     "evalue": "invalid syntax (699686038.py, line 2)",
     "output_type": "error",
     "traceback": [
      "\u001b[1;36m  Cell \u001b[1;32mIn[73], line 2\u001b[1;36m\u001b[0m\n\u001b[1;33m    sum=lambda a,b\u001b[0m\n\u001b[1;37m                  ^\u001b[0m\n\u001b[1;31mSyntaxError\u001b[0m\u001b[1;31m:\u001b[0m invalid syntax\n"
     ]
    }
   ],
   "source": [
    "import math\n",
    "sum=lambda a,b#without condition,we get error\n",
    "sum(3,5)"
   ]
  },
  {
   "cell_type": "code",
   "execution_count": 74,
   "id": "fdedd3a3-904d-442c-9c17-49858c75d419",
   "metadata": {},
   "outputs": [
    {
     "data": {
      "text/plain": [
       "6"
      ]
     },
     "execution_count": 74,
     "metadata": {},
     "output_type": "execute_result"
    }
   ],
   "source": [
    "import math\n",
    "sum=lambda a,b : math.ceil(b)\n",
    "sum(3,5.432)"
   ]
  },
  {
   "cell_type": "code",
   "execution_count": 103,
   "id": "d3d9b517-00b3-4ea7-8fca-36e68c3bf0e6",
   "metadata": {},
   "outputs": [
    {
     "name": "stdin",
     "output_type": "stream",
     "text": [
      "Enter a number:  6\n"
     ]
    },
    {
     "name": "stdout",
     "output_type": "stream",
     "text": [
      "720\n"
     ]
    }
   ],
   "source": [
    "#------------------------------------------------------------------------------------------------->recurssion\n",
    "#funtion callinf itself until the given condition is true(or else sometimes it may loop infinity) \n",
    "#mostly used to find factorial of a given number\n",
    "def fact(n):\n",
    "    if n==0 or n==1:# 'or' should be used not'||' \n",
    "        return 1\n",
    "    else:\n",
    "        import math\n",
    "        return math.factorial(n)#return n*fact(n-1)\n",
    "n = int(input(\"Enter a number: \"))  \n",
    "print(fact(n))\n",
    "    \n",
    "\n"
   ]
  },
  {
   "cell_type": "code",
   "execution_count": 116,
   "id": "fa39a00c-5654-4256-91a7-16d895b0535d",
   "metadata": {},
   "outputs": [
    {
     "name": "stdin",
     "output_type": "stream",
     "text": [
      "enter number :  4\n"
     ]
    },
    {
     "data": {
      "text/plain": [
       "3"
      ]
     },
     "execution_count": 116,
     "metadata": {},
     "output_type": "execute_result"
    }
   ],
   "source": [
    "#ex :  finding fibnoic value at given position\n",
    "def fib(n):\n",
    "    if n==0:\n",
    "        return 0\n",
    "    elif n==1:\n",
    "        return 1\n",
    "    else :\n",
    "        for i in range(1,50):\n",
    "             return fib(n-1)+fib(n-2)\n",
    "              \n",
    "fib(int(input(\"enter number : \" )))#user input\n",
    "print(fib(n))\n",
    "\n",
    "                           #-------------->other way using user input  #n=int(input(\"enter number : \"))\n",
    "                                                                       #print(fib(n))\n",
    "    "
   ]
  },
  {
   "cell_type": "code",
   "execution_count": 140,
   "id": "8a496264-a808-446b-9b67-c7c3785f1a5a",
   "metadata": {},
   "outputs": [
    {
     "name": "stdin",
     "output_type": "stream",
     "text": [
      " enter number :  10\n"
     ]
    },
    {
     "name": "stdout",
     "output_type": "stream",
     "text": [
      "1\n",
      "2\n",
      "3\n",
      "5\n",
      "8\n",
      "13\n",
      "21\n",
      "34\n",
      "55\n",
      "89\n",
      "144\n"
     ]
    }
   ],
   "source": [
    "#fibnoic series sequence\n",
    "def fib(n):\n",
    "    if n<1:\n",
    "        print(\"enter correct number\")\n",
    "    else:\n",
    "      fib1=0\n",
    "      fib2=1\n",
    "      i=0\n",
    "      while i<=n :             #using while loop\n",
    "              fib=fib1+fib2\n",
    "              fib1=fib2\n",
    "              fib2=fib\n",
    "              i+=1\n",
    "              print(fib)\n",
    "fib(int(input(\" enter number : \")))\n"
   ]
  },
  {
   "cell_type": "code",
   "execution_count": 142,
   "id": "4ce345f6-2374-4b1b-8ade-8ab17e9f25fe",
   "metadata": {},
   "outputs": [
    {
     "name": "stdin",
     "output_type": "stream",
     "text": [
      " enter number :  10\n"
     ]
    },
    {
     "name": "stdout",
     "output_type": "stream",
     "text": [
      "1\n",
      "2\n",
      "3\n",
      "5\n",
      "8\n",
      "13\n",
      "21\n",
      "34\n",
      "55\n",
      "89\n"
     ]
    }
   ],
   "source": [
    "def fib(n):\n",
    "    if n<1:\n",
    "        print(\"enter correct number\")\n",
    "    else:\n",
    "      fib1=0\n",
    "      fib2=1\n",
    "      i=0\n",
    "      for i in range(n) :               #using for loop \n",
    "              fib=fib1+fib2\n",
    "              fib1=fib2\n",
    "              fib2=fib\n",
    "              print(fib)\n",
    "fib(int(input(\" enter number : \")))\n"
   ]
  },
  {
   "cell_type": "code",
   "execution_count": null,
   "id": "aff47b40-0c71-4160-9190-dfb9e1485186",
   "metadata": {},
   "outputs": [],
   "source": []
  }
 ],
 "metadata": {
  "kernelspec": {
   "display_name": "Python 3 (ipykernel)",
   "language": "python",
   "name": "python3"
  },
  "language_info": {
   "codemirror_mode": {
    "name": "ipython",
    "version": 3
   },
   "file_extension": ".py",
   "mimetype": "text/x-python",
   "name": "python",
   "nbconvert_exporter": "python",
   "pygments_lexer": "ipython3",
   "version": "3.12.3"
  }
 },
 "nbformat": 4,
 "nbformat_minor": 5
}
